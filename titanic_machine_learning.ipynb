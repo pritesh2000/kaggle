{
 "cells": [
  {
   "cell_type": "code",
   "execution_count": 1,
   "id": "381960ed",
   "metadata": {
    "execution": {
     "iopub.execute_input": "2022-08-25T21:13:11.577349Z",
     "iopub.status.busy": "2022-08-25T21:13:11.576675Z",
     "iopub.status.idle": "2022-08-25T21:13:11.591260Z",
     "shell.execute_reply": "2022-08-25T21:13:11.590367Z"
    },
    "papermill": {
     "duration": 0.045208,
     "end_time": "2022-08-25T21:13:11.593865",
     "exception": false,
     "start_time": "2022-08-25T21:13:11.548657",
     "status": "completed"
    },
    "tags": []
   },
   "outputs": [],
   "source": [
    "# importing library\n",
    "\n",
    "import numpy as np     # linear algebra\n",
    "import pandas as pd    # data processing"
   ]
  },
  {
   "cell_type": "code",
   "execution_count": 2,
   "id": "068f85b8",
   "metadata": {
    "execution": {
     "iopub.execute_input": "2022-08-25T21:13:11.645177Z",
     "iopub.status.busy": "2022-08-25T21:13:11.644777Z",
     "iopub.status.idle": "2022-08-25T21:13:11.650075Z",
     "shell.execute_reply": "2022-08-25T21:13:11.648395Z"
    },
    "papermill": {
     "duration": 0.034089,
     "end_time": "2022-08-25T21:13:11.652924",
     "exception": false,
     "start_time": "2022-08-25T21:13:11.618835",
     "status": "completed"
    },
    "tags": []
   },
   "outputs": [],
   "source": [
    "dpath = \"../input/titanic-datasets/\""
   ]
  },
  {
   "cell_type": "code",
   "execution_count": 3,
   "id": "4eee18f9",
   "metadata": {
    "execution": {
     "iopub.execute_input": "2022-08-25T21:13:11.703526Z",
     "iopub.status.busy": "2022-08-25T21:13:11.703049Z",
     "iopub.status.idle": "2022-08-25T21:13:11.723107Z",
     "shell.execute_reply": "2022-08-25T21:13:11.722030Z"
    },
    "papermill": {
     "duration": 0.04848,
     "end_time": "2022-08-25T21:13:11.725814",
     "exception": false,
     "start_time": "2022-08-25T21:13:11.677334",
     "status": "completed"
    },
    "tags": []
   },
   "outputs": [],
   "source": [
    "train_titanic = pd.read_csv(dpath + \"train.csv\")"
   ]
  },
  {
   "cell_type": "code",
   "execution_count": 4,
   "id": "977adabe",
   "metadata": {
    "execution": {
     "iopub.execute_input": "2022-08-25T21:13:11.779290Z",
     "iopub.status.busy": "2022-08-25T21:13:11.778671Z",
     "iopub.status.idle": "2022-08-25T21:13:11.793885Z",
     "shell.execute_reply": "2022-08-25T21:13:11.792700Z"
    },
    "papermill": {
     "duration": 0.046692,
     "end_time": "2022-08-25T21:13:11.797013",
     "exception": false,
     "start_time": "2022-08-25T21:13:11.750321",
     "status": "completed"
    },
    "tags": []
   },
   "outputs": [],
   "source": [
    "test_titanic = pd.read_csv(dpath + \"test.csv\")"
   ]
  },
  {
   "cell_type": "markdown",
   "id": "dad4b673",
   "metadata": {
    "papermill": {
     "duration": 0.024203,
     "end_time": "2022-08-25T21:13:11.845639",
     "exception": false,
     "start_time": "2022-08-25T21:13:11.821436",
     "status": "completed"
    },
    "tags": []
   },
   "source": [
    "## Training Dataset"
   ]
  },
  {
   "cell_type": "code",
   "execution_count": 5,
   "id": "a961c51e",
   "metadata": {
    "execution": {
     "iopub.execute_input": "2022-08-25T21:13:11.897610Z",
     "iopub.status.busy": "2022-08-25T21:13:11.897139Z",
     "iopub.status.idle": "2022-08-25T21:13:11.935491Z",
     "shell.execute_reply": "2022-08-25T21:13:11.934655Z"
    },
    "papermill": {
     "duration": 0.06858,
     "end_time": "2022-08-25T21:13:11.939008",
     "exception": false,
     "start_time": "2022-08-25T21:13:11.870428",
     "status": "completed"
    },
    "tags": []
   },
   "outputs": [
    {
     "data": {
      "text/html": [
       "<div>\n",
       "<style scoped>\n",
       "    .dataframe tbody tr th:only-of-type {\n",
       "        vertical-align: middle;\n",
       "    }\n",
       "\n",
       "    .dataframe tbody tr th {\n",
       "        vertical-align: top;\n",
       "    }\n",
       "\n",
       "    .dataframe thead th {\n",
       "        text-align: right;\n",
       "    }\n",
       "</style>\n",
       "<table border=\"1\" class=\"dataframe\">\n",
       "  <thead>\n",
       "    <tr style=\"text-align: right;\">\n",
       "      <th></th>\n",
       "      <th>PassengerId</th>\n",
       "      <th>Survived</th>\n",
       "      <th>Pclass</th>\n",
       "      <th>Name</th>\n",
       "      <th>Sex</th>\n",
       "      <th>Age</th>\n",
       "      <th>SibSp</th>\n",
       "      <th>Parch</th>\n",
       "      <th>Ticket</th>\n",
       "      <th>Fare</th>\n",
       "      <th>Cabin</th>\n",
       "      <th>Embarked</th>\n",
       "    </tr>\n",
       "  </thead>\n",
       "  <tbody>\n",
       "    <tr>\n",
       "      <th>0</th>\n",
       "      <td>1</td>\n",
       "      <td>0</td>\n",
       "      <td>3</td>\n",
       "      <td>Braund, Mr. Owen Harris</td>\n",
       "      <td>male</td>\n",
       "      <td>22.0</td>\n",
       "      <td>1</td>\n",
       "      <td>0</td>\n",
       "      <td>A/5 21171</td>\n",
       "      <td>7.2500</td>\n",
       "      <td>NaN</td>\n",
       "      <td>S</td>\n",
       "    </tr>\n",
       "    <tr>\n",
       "      <th>1</th>\n",
       "      <td>2</td>\n",
       "      <td>1</td>\n",
       "      <td>1</td>\n",
       "      <td>Cumings, Mrs. John Bradley (Florence Briggs Th...</td>\n",
       "      <td>female</td>\n",
       "      <td>38.0</td>\n",
       "      <td>1</td>\n",
       "      <td>0</td>\n",
       "      <td>PC 17599</td>\n",
       "      <td>71.2833</td>\n",
       "      <td>C85</td>\n",
       "      <td>C</td>\n",
       "    </tr>\n",
       "    <tr>\n",
       "      <th>2</th>\n",
       "      <td>3</td>\n",
       "      <td>1</td>\n",
       "      <td>3</td>\n",
       "      <td>Heikkinen, Miss. Laina</td>\n",
       "      <td>female</td>\n",
       "      <td>26.0</td>\n",
       "      <td>0</td>\n",
       "      <td>0</td>\n",
       "      <td>STON/O2. 3101282</td>\n",
       "      <td>7.9250</td>\n",
       "      <td>NaN</td>\n",
       "      <td>S</td>\n",
       "    </tr>\n",
       "    <tr>\n",
       "      <th>3</th>\n",
       "      <td>4</td>\n",
       "      <td>1</td>\n",
       "      <td>1</td>\n",
       "      <td>Futrelle, Mrs. Jacques Heath (Lily May Peel)</td>\n",
       "      <td>female</td>\n",
       "      <td>35.0</td>\n",
       "      <td>1</td>\n",
       "      <td>0</td>\n",
       "      <td>113803</td>\n",
       "      <td>53.1000</td>\n",
       "      <td>C123</td>\n",
       "      <td>S</td>\n",
       "    </tr>\n",
       "    <tr>\n",
       "      <th>4</th>\n",
       "      <td>5</td>\n",
       "      <td>0</td>\n",
       "      <td>3</td>\n",
       "      <td>Allen, Mr. William Henry</td>\n",
       "      <td>male</td>\n",
       "      <td>35.0</td>\n",
       "      <td>0</td>\n",
       "      <td>0</td>\n",
       "      <td>373450</td>\n",
       "      <td>8.0500</td>\n",
       "      <td>NaN</td>\n",
       "      <td>S</td>\n",
       "    </tr>\n",
       "    <tr>\n",
       "      <th>...</th>\n",
       "      <td>...</td>\n",
       "      <td>...</td>\n",
       "      <td>...</td>\n",
       "      <td>...</td>\n",
       "      <td>...</td>\n",
       "      <td>...</td>\n",
       "      <td>...</td>\n",
       "      <td>...</td>\n",
       "      <td>...</td>\n",
       "      <td>...</td>\n",
       "      <td>...</td>\n",
       "      <td>...</td>\n",
       "    </tr>\n",
       "    <tr>\n",
       "      <th>886</th>\n",
       "      <td>887</td>\n",
       "      <td>0</td>\n",
       "      <td>2</td>\n",
       "      <td>Montvila, Rev. Juozas</td>\n",
       "      <td>male</td>\n",
       "      <td>27.0</td>\n",
       "      <td>0</td>\n",
       "      <td>0</td>\n",
       "      <td>211536</td>\n",
       "      <td>13.0000</td>\n",
       "      <td>NaN</td>\n",
       "      <td>S</td>\n",
       "    </tr>\n",
       "    <tr>\n",
       "      <th>887</th>\n",
       "      <td>888</td>\n",
       "      <td>1</td>\n",
       "      <td>1</td>\n",
       "      <td>Graham, Miss. Margaret Edith</td>\n",
       "      <td>female</td>\n",
       "      <td>19.0</td>\n",
       "      <td>0</td>\n",
       "      <td>0</td>\n",
       "      <td>112053</td>\n",
       "      <td>30.0000</td>\n",
       "      <td>B42</td>\n",
       "      <td>S</td>\n",
       "    </tr>\n",
       "    <tr>\n",
       "      <th>888</th>\n",
       "      <td>889</td>\n",
       "      <td>0</td>\n",
       "      <td>3</td>\n",
       "      <td>Johnston, Miss. Catherine Helen \"Carrie\"</td>\n",
       "      <td>female</td>\n",
       "      <td>NaN</td>\n",
       "      <td>1</td>\n",
       "      <td>2</td>\n",
       "      <td>W./C. 6607</td>\n",
       "      <td>23.4500</td>\n",
       "      <td>NaN</td>\n",
       "      <td>S</td>\n",
       "    </tr>\n",
       "    <tr>\n",
       "      <th>889</th>\n",
       "      <td>890</td>\n",
       "      <td>1</td>\n",
       "      <td>1</td>\n",
       "      <td>Behr, Mr. Karl Howell</td>\n",
       "      <td>male</td>\n",
       "      <td>26.0</td>\n",
       "      <td>0</td>\n",
       "      <td>0</td>\n",
       "      <td>111369</td>\n",
       "      <td>30.0000</td>\n",
       "      <td>C148</td>\n",
       "      <td>C</td>\n",
       "    </tr>\n",
       "    <tr>\n",
       "      <th>890</th>\n",
       "      <td>891</td>\n",
       "      <td>0</td>\n",
       "      <td>3</td>\n",
       "      <td>Dooley, Mr. Patrick</td>\n",
       "      <td>male</td>\n",
       "      <td>32.0</td>\n",
       "      <td>0</td>\n",
       "      <td>0</td>\n",
       "      <td>370376</td>\n",
       "      <td>7.7500</td>\n",
       "      <td>NaN</td>\n",
       "      <td>Q</td>\n",
       "    </tr>\n",
       "  </tbody>\n",
       "</table>\n",
       "<p>891 rows × 12 columns</p>\n",
       "</div>"
      ],
      "text/plain": [
       "     PassengerId  Survived  Pclass  \\\n",
       "0              1         0       3   \n",
       "1              2         1       1   \n",
       "2              3         1       3   \n",
       "3              4         1       1   \n",
       "4              5         0       3   \n",
       "..           ...       ...     ...   \n",
       "886          887         0       2   \n",
       "887          888         1       1   \n",
       "888          889         0       3   \n",
       "889          890         1       1   \n",
       "890          891         0       3   \n",
       "\n",
       "                                                  Name     Sex   Age  SibSp  \\\n",
       "0                              Braund, Mr. Owen Harris    male  22.0      1   \n",
       "1    Cumings, Mrs. John Bradley (Florence Briggs Th...  female  38.0      1   \n",
       "2                               Heikkinen, Miss. Laina  female  26.0      0   \n",
       "3         Futrelle, Mrs. Jacques Heath (Lily May Peel)  female  35.0      1   \n",
       "4                             Allen, Mr. William Henry    male  35.0      0   \n",
       "..                                                 ...     ...   ...    ...   \n",
       "886                              Montvila, Rev. Juozas    male  27.0      0   \n",
       "887                       Graham, Miss. Margaret Edith  female  19.0      0   \n",
       "888           Johnston, Miss. Catherine Helen \"Carrie\"  female   NaN      1   \n",
       "889                              Behr, Mr. Karl Howell    male  26.0      0   \n",
       "890                                Dooley, Mr. Patrick    male  32.0      0   \n",
       "\n",
       "     Parch            Ticket     Fare Cabin Embarked  \n",
       "0        0         A/5 21171   7.2500   NaN        S  \n",
       "1        0          PC 17599  71.2833   C85        C  \n",
       "2        0  STON/O2. 3101282   7.9250   NaN        S  \n",
       "3        0            113803  53.1000  C123        S  \n",
       "4        0            373450   8.0500   NaN        S  \n",
       "..     ...               ...      ...   ...      ...  \n",
       "886      0            211536  13.0000   NaN        S  \n",
       "887      0            112053  30.0000   B42        S  \n",
       "888      2        W./C. 6607  23.4500   NaN        S  \n",
       "889      0            111369  30.0000  C148        C  \n",
       "890      0            370376   7.7500   NaN        Q  \n",
       "\n",
       "[891 rows x 12 columns]"
      ]
     },
     "execution_count": 5,
     "metadata": {},
     "output_type": "execute_result"
    }
   ],
   "source": [
    "train_titanic"
   ]
  },
  {
   "cell_type": "code",
   "execution_count": 6,
   "id": "a6a4ec4e",
   "metadata": {
    "execution": {
     "iopub.execute_input": "2022-08-25T21:13:11.992267Z",
     "iopub.status.busy": "2022-08-25T21:13:11.991863Z",
     "iopub.status.idle": "2022-08-25T21:13:12.015314Z",
     "shell.execute_reply": "2022-08-25T21:13:12.013706Z"
    },
    "papermill": {
     "duration": 0.053741,
     "end_time": "2022-08-25T21:13:12.018564",
     "exception": false,
     "start_time": "2022-08-25T21:13:11.964823",
     "status": "completed"
    },
    "tags": []
   },
   "outputs": [
    {
     "data": {
      "text/html": [
       "<div>\n",
       "<style scoped>\n",
       "    .dataframe tbody tr th:only-of-type {\n",
       "        vertical-align: middle;\n",
       "    }\n",
       "\n",
       "    .dataframe tbody tr th {\n",
       "        vertical-align: top;\n",
       "    }\n",
       "\n",
       "    .dataframe thead th {\n",
       "        text-align: right;\n",
       "    }\n",
       "</style>\n",
       "<table border=\"1\" class=\"dataframe\">\n",
       "  <thead>\n",
       "    <tr style=\"text-align: right;\">\n",
       "      <th></th>\n",
       "      <th>PassengerId</th>\n",
       "      <th>Survived</th>\n",
       "      <th>Pclass</th>\n",
       "      <th>Name</th>\n",
       "      <th>Sex</th>\n",
       "      <th>Age</th>\n",
       "      <th>SibSp</th>\n",
       "      <th>Parch</th>\n",
       "      <th>Ticket</th>\n",
       "      <th>Fare</th>\n",
       "      <th>Cabin</th>\n",
       "      <th>Embarked</th>\n",
       "    </tr>\n",
       "  </thead>\n",
       "  <tbody>\n",
       "    <tr>\n",
       "      <th>403</th>\n",
       "      <td>404</td>\n",
       "      <td>0</td>\n",
       "      <td>3</td>\n",
       "      <td>Hakkarainen, Mr. Pekka Pietari</td>\n",
       "      <td>male</td>\n",
       "      <td>28.0</td>\n",
       "      <td>1</td>\n",
       "      <td>0</td>\n",
       "      <td>STON/O2. 3101279</td>\n",
       "      <td>15.8500</td>\n",
       "      <td>NaN</td>\n",
       "      <td>S</td>\n",
       "    </tr>\n",
       "    <tr>\n",
       "      <th>555</th>\n",
       "      <td>556</td>\n",
       "      <td>0</td>\n",
       "      <td>1</td>\n",
       "      <td>Wright, Mr. George</td>\n",
       "      <td>male</td>\n",
       "      <td>62.0</td>\n",
       "      <td>0</td>\n",
       "      <td>0</td>\n",
       "      <td>113807</td>\n",
       "      <td>26.5500</td>\n",
       "      <td>NaN</td>\n",
       "      <td>S</td>\n",
       "    </tr>\n",
       "    <tr>\n",
       "      <th>473</th>\n",
       "      <td>474</td>\n",
       "      <td>1</td>\n",
       "      <td>2</td>\n",
       "      <td>Jerwan, Mrs. Amin S (Marie Marthe Thuillard)</td>\n",
       "      <td>female</td>\n",
       "      <td>23.0</td>\n",
       "      <td>0</td>\n",
       "      <td>0</td>\n",
       "      <td>SC/AH Basle 541</td>\n",
       "      <td>13.7917</td>\n",
       "      <td>D</td>\n",
       "      <td>C</td>\n",
       "    </tr>\n",
       "    <tr>\n",
       "      <th>303</th>\n",
       "      <td>304</td>\n",
       "      <td>1</td>\n",
       "      <td>2</td>\n",
       "      <td>Keane, Miss. Nora A</td>\n",
       "      <td>female</td>\n",
       "      <td>NaN</td>\n",
       "      <td>0</td>\n",
       "      <td>0</td>\n",
       "      <td>226593</td>\n",
       "      <td>12.3500</td>\n",
       "      <td>E101</td>\n",
       "      <td>Q</td>\n",
       "    </tr>\n",
       "    <tr>\n",
       "      <th>477</th>\n",
       "      <td>478</td>\n",
       "      <td>0</td>\n",
       "      <td>3</td>\n",
       "      <td>Braund, Mr. Lewis Richard</td>\n",
       "      <td>male</td>\n",
       "      <td>29.0</td>\n",
       "      <td>1</td>\n",
       "      <td>0</td>\n",
       "      <td>3460</td>\n",
       "      <td>7.0458</td>\n",
       "      <td>NaN</td>\n",
       "      <td>S</td>\n",
       "    </tr>\n",
       "    <tr>\n",
       "      <th>765</th>\n",
       "      <td>766</td>\n",
       "      <td>1</td>\n",
       "      <td>1</td>\n",
       "      <td>Hogeboom, Mrs. John C (Anna Andrews)</td>\n",
       "      <td>female</td>\n",
       "      <td>51.0</td>\n",
       "      <td>1</td>\n",
       "      <td>0</td>\n",
       "      <td>13502</td>\n",
       "      <td>77.9583</td>\n",
       "      <td>D11</td>\n",
       "      <td>S</td>\n",
       "    </tr>\n",
       "    <tr>\n",
       "      <th>381</th>\n",
       "      <td>382</td>\n",
       "      <td>1</td>\n",
       "      <td>3</td>\n",
       "      <td>Nakid, Miss. Maria (\"Mary\")</td>\n",
       "      <td>female</td>\n",
       "      <td>1.0</td>\n",
       "      <td>0</td>\n",
       "      <td>2</td>\n",
       "      <td>2653</td>\n",
       "      <td>15.7417</td>\n",
       "      <td>NaN</td>\n",
       "      <td>C</td>\n",
       "    </tr>\n",
       "    <tr>\n",
       "      <th>564</th>\n",
       "      <td>565</td>\n",
       "      <td>0</td>\n",
       "      <td>3</td>\n",
       "      <td>Meanwell, Miss. (Marion Ogden)</td>\n",
       "      <td>female</td>\n",
       "      <td>NaN</td>\n",
       "      <td>0</td>\n",
       "      <td>0</td>\n",
       "      <td>SOTON/O.Q. 392087</td>\n",
       "      <td>8.0500</td>\n",
       "      <td>NaN</td>\n",
       "      <td>S</td>\n",
       "    </tr>\n",
       "    <tr>\n",
       "      <th>256</th>\n",
       "      <td>257</td>\n",
       "      <td>1</td>\n",
       "      <td>1</td>\n",
       "      <td>Thorne, Mrs. Gertrude Maybelle</td>\n",
       "      <td>female</td>\n",
       "      <td>NaN</td>\n",
       "      <td>0</td>\n",
       "      <td>0</td>\n",
       "      <td>PC 17585</td>\n",
       "      <td>79.2000</td>\n",
       "      <td>NaN</td>\n",
       "      <td>C</td>\n",
       "    </tr>\n",
       "    <tr>\n",
       "      <th>404</th>\n",
       "      <td>405</td>\n",
       "      <td>0</td>\n",
       "      <td>3</td>\n",
       "      <td>Oreskovic, Miss. Marija</td>\n",
       "      <td>female</td>\n",
       "      <td>20.0</td>\n",
       "      <td>0</td>\n",
       "      <td>0</td>\n",
       "      <td>315096</td>\n",
       "      <td>8.6625</td>\n",
       "      <td>NaN</td>\n",
       "      <td>S</td>\n",
       "    </tr>\n",
       "  </tbody>\n",
       "</table>\n",
       "</div>"
      ],
      "text/plain": [
       "     PassengerId  Survived  Pclass  \\\n",
       "403          404         0       3   \n",
       "555          556         0       1   \n",
       "473          474         1       2   \n",
       "303          304         1       2   \n",
       "477          478         0       3   \n",
       "765          766         1       1   \n",
       "381          382         1       3   \n",
       "564          565         0       3   \n",
       "256          257         1       1   \n",
       "404          405         0       3   \n",
       "\n",
       "                                             Name     Sex   Age  SibSp  Parch  \\\n",
       "403                Hakkarainen, Mr. Pekka Pietari    male  28.0      1      0   \n",
       "555                            Wright, Mr. George    male  62.0      0      0   \n",
       "473  Jerwan, Mrs. Amin S (Marie Marthe Thuillard)  female  23.0      0      0   \n",
       "303                           Keane, Miss. Nora A  female   NaN      0      0   \n",
       "477                     Braund, Mr. Lewis Richard    male  29.0      1      0   \n",
       "765          Hogeboom, Mrs. John C (Anna Andrews)  female  51.0      1      0   \n",
       "381                   Nakid, Miss. Maria (\"Mary\")  female   1.0      0      2   \n",
       "564                Meanwell, Miss. (Marion Ogden)  female   NaN      0      0   \n",
       "256                Thorne, Mrs. Gertrude Maybelle  female   NaN      0      0   \n",
       "404                       Oreskovic, Miss. Marija  female  20.0      0      0   \n",
       "\n",
       "                Ticket     Fare Cabin Embarked  \n",
       "403   STON/O2. 3101279  15.8500   NaN        S  \n",
       "555             113807  26.5500   NaN        S  \n",
       "473    SC/AH Basle 541  13.7917     D        C  \n",
       "303             226593  12.3500  E101        Q  \n",
       "477               3460   7.0458   NaN        S  \n",
       "765              13502  77.9583   D11        S  \n",
       "381               2653  15.7417   NaN        C  \n",
       "564  SOTON/O.Q. 392087   8.0500   NaN        S  \n",
       "256           PC 17585  79.2000   NaN        C  \n",
       "404             315096   8.6625   NaN        S  "
      ]
     },
     "execution_count": 6,
     "metadata": {},
     "output_type": "execute_result"
    }
   ],
   "source": [
    "# random 10 sample data points of training data\n",
    "train_titanic.sample(10)"
   ]
  },
  {
   "cell_type": "code",
   "execution_count": 7,
   "id": "7d2d0c2f",
   "metadata": {
    "execution": {
     "iopub.execute_input": "2022-08-25T21:13:12.072986Z",
     "iopub.status.busy": "2022-08-25T21:13:12.072573Z",
     "iopub.status.idle": "2022-08-25T21:13:12.080421Z",
     "shell.execute_reply": "2022-08-25T21:13:12.078977Z"
    },
    "papermill": {
     "duration": 0.037663,
     "end_time": "2022-08-25T21:13:12.082984",
     "exception": false,
     "start_time": "2022-08-25T21:13:12.045321",
     "status": "completed"
    },
    "tags": []
   },
   "outputs": [
    {
     "data": {
      "text/plain": [
       "(891, 12)"
      ]
     },
     "execution_count": 7,
     "metadata": {},
     "output_type": "execute_result"
    }
   ],
   "source": [
    "train_titanic.shape"
   ]
  },
  {
   "cell_type": "code",
   "execution_count": 8,
   "id": "c160d485",
   "metadata": {
    "execution": {
     "iopub.execute_input": "2022-08-25T21:13:12.136461Z",
     "iopub.status.busy": "2022-08-25T21:13:12.134961Z",
     "iopub.status.idle": "2022-08-25T21:13:12.144998Z",
     "shell.execute_reply": "2022-08-25T21:13:12.143565Z"
    },
    "papermill": {
     "duration": 0.039568,
     "end_time": "2022-08-25T21:13:12.147796",
     "exception": false,
     "start_time": "2022-08-25T21:13:12.108228",
     "status": "completed"
    },
    "tags": []
   },
   "outputs": [
    {
     "data": {
      "text/plain": [
       "Index(['PassengerId', 'Survived', 'Pclass', 'Name', 'Sex', 'Age', 'SibSp',\n",
       "       'Parch', 'Ticket', 'Fare', 'Cabin', 'Embarked'],\n",
       "      dtype='object')"
      ]
     },
     "execution_count": 8,
     "metadata": {},
     "output_type": "execute_result"
    }
   ],
   "source": [
    "train_titanic.columns"
   ]
  },
  {
   "cell_type": "code",
   "execution_count": 9,
   "id": "fc735193",
   "metadata": {
    "execution": {
     "iopub.execute_input": "2022-08-25T21:13:12.201508Z",
     "iopub.status.busy": "2022-08-25T21:13:12.200833Z",
     "iopub.status.idle": "2022-08-25T21:13:12.228768Z",
     "shell.execute_reply": "2022-08-25T21:13:12.227773Z"
    },
    "papermill": {
     "duration": 0.059182,
     "end_time": "2022-08-25T21:13:12.232345",
     "exception": false,
     "start_time": "2022-08-25T21:13:12.173163",
     "status": "completed"
    },
    "tags": []
   },
   "outputs": [
    {
     "name": "stdout",
     "output_type": "stream",
     "text": [
      "<class 'pandas.core.frame.DataFrame'>\n",
      "RangeIndex: 891 entries, 0 to 890\n",
      "Data columns (total 12 columns):\n",
      " #   Column       Non-Null Count  Dtype  \n",
      "---  ------       --------------  -----  \n",
      " 0   PassengerId  891 non-null    int64  \n",
      " 1   Survived     891 non-null    int64  \n",
      " 2   Pclass       891 non-null    int64  \n",
      " 3   Name         891 non-null    object \n",
      " 4   Sex          891 non-null    object \n",
      " 5   Age          714 non-null    float64\n",
      " 6   SibSp        891 non-null    int64  \n",
      " 7   Parch        891 non-null    int64  \n",
      " 8   Ticket       891 non-null    object \n",
      " 9   Fare         891 non-null    float64\n",
      " 10  Cabin        204 non-null    object \n",
      " 11  Embarked     889 non-null    object \n",
      "dtypes: float64(2), int64(5), object(5)\n",
      "memory usage: 83.7+ KB\n"
     ]
    }
   ],
   "source": [
    "# basic information of dataset\n",
    "train_titanic.info()"
   ]
  },
  {
   "cell_type": "code",
   "execution_count": 10,
   "id": "98c3eee1",
   "metadata": {
    "execution": {
     "iopub.execute_input": "2022-08-25T21:13:12.288041Z",
     "iopub.status.busy": "2022-08-25T21:13:12.287134Z",
     "iopub.status.idle": "2022-08-25T21:13:12.298541Z",
     "shell.execute_reply": "2022-08-25T21:13:12.297190Z"
    },
    "papermill": {
     "duration": 0.041361,
     "end_time": "2022-08-25T21:13:12.301060",
     "exception": false,
     "start_time": "2022-08-25T21:13:12.259699",
     "status": "completed"
    },
    "tags": []
   },
   "outputs": [
    {
     "data": {
      "text/plain": [
       "PassengerId      0\n",
       "Survived         0\n",
       "Pclass           0\n",
       "Name             0\n",
       "Sex              0\n",
       "Age            177\n",
       "SibSp            0\n",
       "Parch            0\n",
       "Ticket           0\n",
       "Fare             0\n",
       "Cabin          687\n",
       "Embarked         2\n",
       "dtype: int64"
      ]
     },
     "execution_count": 10,
     "metadata": {},
     "output_type": "execute_result"
    }
   ],
   "source": [
    "# columnwise total null values\n",
    "train_titanic.isnull().sum()"
   ]
  },
  {
   "cell_type": "code",
   "execution_count": 11,
   "id": "9ed43fdf",
   "metadata": {
    "execution": {
     "iopub.execute_input": "2022-08-25T21:13:12.355186Z",
     "iopub.status.busy": "2022-08-25T21:13:12.354775Z",
     "iopub.status.idle": "2022-08-25T21:13:12.390867Z",
     "shell.execute_reply": "2022-08-25T21:13:12.389697Z"
    },
    "papermill": {
     "duration": 0.066429,
     "end_time": "2022-08-25T21:13:12.393515",
     "exception": false,
     "start_time": "2022-08-25T21:13:12.327086",
     "status": "completed"
    },
    "tags": []
   },
   "outputs": [
    {
     "data": {
      "text/html": [
       "<div>\n",
       "<style scoped>\n",
       "    .dataframe tbody tr th:only-of-type {\n",
       "        vertical-align: middle;\n",
       "    }\n",
       "\n",
       "    .dataframe tbody tr th {\n",
       "        vertical-align: top;\n",
       "    }\n",
       "\n",
       "    .dataframe thead th {\n",
       "        text-align: right;\n",
       "    }\n",
       "</style>\n",
       "<table border=\"1\" class=\"dataframe\">\n",
       "  <thead>\n",
       "    <tr style=\"text-align: right;\">\n",
       "      <th></th>\n",
       "      <th>PassengerId</th>\n",
       "      <th>Survived</th>\n",
       "      <th>Pclass</th>\n",
       "      <th>Age</th>\n",
       "      <th>SibSp</th>\n",
       "      <th>Parch</th>\n",
       "      <th>Fare</th>\n",
       "    </tr>\n",
       "  </thead>\n",
       "  <tbody>\n",
       "    <tr>\n",
       "      <th>count</th>\n",
       "      <td>891.000000</td>\n",
       "      <td>891.000000</td>\n",
       "      <td>891.000000</td>\n",
       "      <td>714.000000</td>\n",
       "      <td>891.000000</td>\n",
       "      <td>891.000000</td>\n",
       "      <td>891.000000</td>\n",
       "    </tr>\n",
       "    <tr>\n",
       "      <th>mean</th>\n",
       "      <td>446.000000</td>\n",
       "      <td>0.383838</td>\n",
       "      <td>2.308642</td>\n",
       "      <td>29.699118</td>\n",
       "      <td>0.523008</td>\n",
       "      <td>0.381594</td>\n",
       "      <td>32.204208</td>\n",
       "    </tr>\n",
       "    <tr>\n",
       "      <th>std</th>\n",
       "      <td>257.353842</td>\n",
       "      <td>0.486592</td>\n",
       "      <td>0.836071</td>\n",
       "      <td>14.526497</td>\n",
       "      <td>1.102743</td>\n",
       "      <td>0.806057</td>\n",
       "      <td>49.693429</td>\n",
       "    </tr>\n",
       "    <tr>\n",
       "      <th>min</th>\n",
       "      <td>1.000000</td>\n",
       "      <td>0.000000</td>\n",
       "      <td>1.000000</td>\n",
       "      <td>0.420000</td>\n",
       "      <td>0.000000</td>\n",
       "      <td>0.000000</td>\n",
       "      <td>0.000000</td>\n",
       "    </tr>\n",
       "    <tr>\n",
       "      <th>25%</th>\n",
       "      <td>223.500000</td>\n",
       "      <td>0.000000</td>\n",
       "      <td>2.000000</td>\n",
       "      <td>20.125000</td>\n",
       "      <td>0.000000</td>\n",
       "      <td>0.000000</td>\n",
       "      <td>7.910400</td>\n",
       "    </tr>\n",
       "    <tr>\n",
       "      <th>50%</th>\n",
       "      <td>446.000000</td>\n",
       "      <td>0.000000</td>\n",
       "      <td>3.000000</td>\n",
       "      <td>28.000000</td>\n",
       "      <td>0.000000</td>\n",
       "      <td>0.000000</td>\n",
       "      <td>14.454200</td>\n",
       "    </tr>\n",
       "    <tr>\n",
       "      <th>75%</th>\n",
       "      <td>668.500000</td>\n",
       "      <td>1.000000</td>\n",
       "      <td>3.000000</td>\n",
       "      <td>38.000000</td>\n",
       "      <td>1.000000</td>\n",
       "      <td>0.000000</td>\n",
       "      <td>31.000000</td>\n",
       "    </tr>\n",
       "    <tr>\n",
       "      <th>max</th>\n",
       "      <td>891.000000</td>\n",
       "      <td>1.000000</td>\n",
       "      <td>3.000000</td>\n",
       "      <td>80.000000</td>\n",
       "      <td>8.000000</td>\n",
       "      <td>6.000000</td>\n",
       "      <td>512.329200</td>\n",
       "    </tr>\n",
       "  </tbody>\n",
       "</table>\n",
       "</div>"
      ],
      "text/plain": [
       "       PassengerId    Survived      Pclass         Age       SibSp  \\\n",
       "count   891.000000  891.000000  891.000000  714.000000  891.000000   \n",
       "mean    446.000000    0.383838    2.308642   29.699118    0.523008   \n",
       "std     257.353842    0.486592    0.836071   14.526497    1.102743   \n",
       "min       1.000000    0.000000    1.000000    0.420000    0.000000   \n",
       "25%     223.500000    0.000000    2.000000   20.125000    0.000000   \n",
       "50%     446.000000    0.000000    3.000000   28.000000    0.000000   \n",
       "75%     668.500000    1.000000    3.000000   38.000000    1.000000   \n",
       "max     891.000000    1.000000    3.000000   80.000000    8.000000   \n",
       "\n",
       "            Parch        Fare  \n",
       "count  891.000000  891.000000  \n",
       "mean     0.381594   32.204208  \n",
       "std      0.806057   49.693429  \n",
       "min      0.000000    0.000000  \n",
       "25%      0.000000    7.910400  \n",
       "50%      0.000000   14.454200  \n",
       "75%      0.000000   31.000000  \n",
       "max      6.000000  512.329200  "
      ]
     },
     "execution_count": 11,
     "metadata": {},
     "output_type": "execute_result"
    }
   ],
   "source": [
    "# statistical inforamtion of numeric data\n",
    "train_titanic.describe()"
   ]
  },
  {
   "cell_type": "code",
   "execution_count": 12,
   "id": "6fbaa459",
   "metadata": {
    "execution": {
     "iopub.execute_input": "2022-08-25T21:13:12.448575Z",
     "iopub.status.busy": "2022-08-25T21:13:12.448119Z",
     "iopub.status.idle": "2022-08-25T21:13:12.457564Z",
     "shell.execute_reply": "2022-08-25T21:13:12.456570Z"
    },
    "papermill": {
     "duration": 0.039683,
     "end_time": "2022-08-25T21:13:12.459979",
     "exception": false,
     "start_time": "2022-08-25T21:13:12.420296",
     "status": "completed"
    },
    "tags": []
   },
   "outputs": [
    {
     "data": {
      "text/plain": [
       "0        1\n",
       "1        2\n",
       "2        3\n",
       "3        4\n",
       "4        5\n",
       "      ... \n",
       "886    887\n",
       "887    888\n",
       "888    889\n",
       "889    890\n",
       "890    891\n",
       "Name: PassengerId, Length: 891, dtype: int64"
      ]
     },
     "execution_count": 12,
     "metadata": {},
     "output_type": "execute_result"
    }
   ],
   "source": [
    "train_titanic.PassengerId"
   ]
  },
  {
   "cell_type": "code",
   "execution_count": 13,
   "id": "7e390539",
   "metadata": {
    "execution": {
     "iopub.execute_input": "2022-08-25T21:13:12.516678Z",
     "iopub.status.busy": "2022-08-25T21:13:12.515871Z",
     "iopub.status.idle": "2022-08-25T21:13:12.522334Z",
     "shell.execute_reply": "2022-08-25T21:13:12.521546Z"
    },
    "papermill": {
     "duration": 0.035967,
     "end_time": "2022-08-25T21:13:12.524739",
     "exception": false,
     "start_time": "2022-08-25T21:13:12.488772",
     "status": "completed"
    },
    "tags": []
   },
   "outputs": [],
   "source": [
    "# removing PassengerId column because it is not useful in any analysis\n",
    "train_titanic.drop('PassengerId',inplace=True, axis=1)"
   ]
  },
  {
   "cell_type": "code",
   "execution_count": 14,
   "id": "e354721c",
   "metadata": {
    "execution": {
     "iopub.execute_input": "2022-08-25T21:13:12.577699Z",
     "iopub.status.busy": "2022-08-25T21:13:12.576899Z",
     "iopub.status.idle": "2022-08-25T21:13:12.584959Z",
     "shell.execute_reply": "2022-08-25T21:13:12.583803Z"
    },
    "papermill": {
     "duration": 0.037321,
     "end_time": "2022-08-25T21:13:12.587243",
     "exception": false,
     "start_time": "2022-08-25T21:13:12.549922",
     "status": "completed"
    },
    "tags": []
   },
   "outputs": [
    {
     "data": {
      "text/plain": [
       "array([0, 1])"
      ]
     },
     "execution_count": 14,
     "metadata": {},
     "output_type": "execute_result"
    }
   ],
   "source": [
    "train_titanic.Survived.unique()    # unique class present in Survived column"
   ]
  },
  {
   "cell_type": "code",
   "execution_count": 15,
   "id": "afc42f05",
   "metadata": {
    "execution": {
     "iopub.execute_input": "2022-08-25T21:13:12.640586Z",
     "iopub.status.busy": "2022-08-25T21:13:12.639785Z",
     "iopub.status.idle": "2022-08-25T21:13:12.649489Z",
     "shell.execute_reply": "2022-08-25T21:13:12.648158Z"
    },
    "papermill": {
     "duration": 0.039586,
     "end_time": "2022-08-25T21:13:12.652138",
     "exception": false,
     "start_time": "2022-08-25T21:13:12.612552",
     "status": "completed"
    },
    "tags": []
   },
   "outputs": [
    {
     "data": {
      "text/plain": [
       "0    549\n",
       "1    342\n",
       "Name: Survived, dtype: int64"
      ]
     },
     "execution_count": 15,
     "metadata": {},
     "output_type": "execute_result"
    }
   ],
   "source": [
    "train_titanic.Survived.value_counts()     # value count of unique class in Survived column"
   ]
  },
  {
   "cell_type": "code",
   "execution_count": 16,
   "id": "bee5f243",
   "metadata": {
    "execution": {
     "iopub.execute_input": "2022-08-25T21:13:12.705209Z",
     "iopub.status.busy": "2022-08-25T21:13:12.704771Z",
     "iopub.status.idle": "2022-08-25T21:13:12.711733Z",
     "shell.execute_reply": "2022-08-25T21:13:12.710957Z"
    },
    "papermill": {
     "duration": 0.036647,
     "end_time": "2022-08-25T21:13:12.714287",
     "exception": false,
     "start_time": "2022-08-25T21:13:12.677640",
     "status": "completed"
    },
    "tags": []
   },
   "outputs": [
    {
     "data": {
      "text/plain": [
       "array([3, 1, 2])"
      ]
     },
     "execution_count": 16,
     "metadata": {},
     "output_type": "execute_result"
    }
   ],
   "source": [
    "train_titanic.Pclass.unique()       # unique class present in Pclass column"
   ]
  },
  {
   "cell_type": "code",
   "execution_count": 17,
   "id": "beb5de6d",
   "metadata": {
    "execution": {
     "iopub.execute_input": "2022-08-25T21:13:12.771172Z",
     "iopub.status.busy": "2022-08-25T21:13:12.769788Z",
     "iopub.status.idle": "2022-08-25T21:13:12.780160Z",
     "shell.execute_reply": "2022-08-25T21:13:12.778808Z"
    },
    "papermill": {
     "duration": 0.042023,
     "end_time": "2022-08-25T21:13:12.782627",
     "exception": false,
     "start_time": "2022-08-25T21:13:12.740604",
     "status": "completed"
    },
    "tags": []
   },
   "outputs": [
    {
     "data": {
      "text/plain": [
       "3    491\n",
       "1    216\n",
       "2    184\n",
       "Name: Pclass, dtype: int64"
      ]
     },
     "execution_count": 17,
     "metadata": {},
     "output_type": "execute_result"
    }
   ],
   "source": [
    "train_titanic.Pclass.value_counts()       # value count of unique class in Pclass column"
   ]
  },
  {
   "cell_type": "code",
   "execution_count": 18,
   "id": "122c6055",
   "metadata": {
    "execution": {
     "iopub.execute_input": "2022-08-25T21:13:12.839632Z",
     "iopub.status.busy": "2022-08-25T21:13:12.838738Z",
     "iopub.status.idle": "2022-08-25T21:13:12.846788Z",
     "shell.execute_reply": "2022-08-25T21:13:12.845828Z"
    },
    "papermill": {
     "duration": 0.039145,
     "end_time": "2022-08-25T21:13:12.849111",
     "exception": false,
     "start_time": "2022-08-25T21:13:12.809966",
     "status": "completed"
    },
    "tags": []
   },
   "outputs": [
    {
     "data": {
      "text/plain": [
       "891"
      ]
     },
     "execution_count": 18,
     "metadata": {},
     "output_type": "execute_result"
    }
   ],
   "source": [
    "train_titanic.Name.nunique()        # count unique name from Name column"
   ]
  },
  {
   "cell_type": "code",
   "execution_count": 19,
   "id": "91e432f4",
   "metadata": {
    "execution": {
     "iopub.execute_input": "2022-08-25T21:13:12.906794Z",
     "iopub.status.busy": "2022-08-25T21:13:12.906349Z",
     "iopub.status.idle": "2022-08-25T21:13:12.913527Z",
     "shell.execute_reply": "2022-08-25T21:13:12.911943Z"
    },
    "papermill": {
     "duration": 0.038591,
     "end_time": "2022-08-25T21:13:12.915977",
     "exception": false,
     "start_time": "2022-08-25T21:13:12.877386",
     "status": "completed"
    },
    "tags": []
   },
   "outputs": [],
   "source": [
    "# removing Name column because each name is unique and it won't be used in any analysis\n",
    "train_titanic.drop(\"Name\", axis=1, inplace=True)"
   ]
  },
  {
   "cell_type": "code",
   "execution_count": 20,
   "id": "a0d6c3a2",
   "metadata": {
    "execution": {
     "iopub.execute_input": "2022-08-25T21:13:12.976450Z",
     "iopub.status.busy": "2022-08-25T21:13:12.974737Z",
     "iopub.status.idle": "2022-08-25T21:13:12.984160Z",
     "shell.execute_reply": "2022-08-25T21:13:12.983174Z"
    },
    "papermill": {
     "duration": 0.041601,
     "end_time": "2022-08-25T21:13:12.986543",
     "exception": false,
     "start_time": "2022-08-25T21:13:12.944942",
     "status": "completed"
    },
    "tags": []
   },
   "outputs": [
    {
     "data": {
      "text/plain": [
       "array(['male', 'female'], dtype=object)"
      ]
     },
     "execution_count": 20,
     "metadata": {},
     "output_type": "execute_result"
    }
   ],
   "source": [
    "train_titanic.Sex.unique()       # unique class present in Sex column"
   ]
  },
  {
   "cell_type": "code",
   "execution_count": 21,
   "id": "da37209b",
   "metadata": {
    "execution": {
     "iopub.execute_input": "2022-08-25T21:13:13.047344Z",
     "iopub.status.busy": "2022-08-25T21:13:13.045924Z",
     "iopub.status.idle": "2022-08-25T21:13:13.055730Z",
     "shell.execute_reply": "2022-08-25T21:13:13.054612Z"
    },
    "papermill": {
     "duration": 0.042834,
     "end_time": "2022-08-25T21:13:13.058443",
     "exception": false,
     "start_time": "2022-08-25T21:13:13.015609",
     "status": "completed"
    },
    "tags": []
   },
   "outputs": [],
   "source": [
    "train_titanic.Sex.replace(['male', 'female'], [1,0], inplace=True)      # replacing gender with boolean values"
   ]
  },
  {
   "cell_type": "code",
   "execution_count": 22,
   "id": "7cb9b76b",
   "metadata": {
    "execution": {
     "iopub.execute_input": "2022-08-25T21:13:13.120454Z",
     "iopub.status.busy": "2022-08-25T21:13:13.120027Z",
     "iopub.status.idle": "2022-08-25T21:13:13.137158Z",
     "shell.execute_reply": "2022-08-25T21:13:13.135654Z"
    },
    "papermill": {
     "duration": 0.051264,
     "end_time": "2022-08-25T21:13:13.139893",
     "exception": false,
     "start_time": "2022-08-25T21:13:13.088629",
     "status": "completed"
    },
    "tags": []
   },
   "outputs": [
    {
     "data": {
      "text/html": [
       "<div>\n",
       "<style scoped>\n",
       "    .dataframe tbody tr th:only-of-type {\n",
       "        vertical-align: middle;\n",
       "    }\n",
       "\n",
       "    .dataframe tbody tr th {\n",
       "        vertical-align: top;\n",
       "    }\n",
       "\n",
       "    .dataframe thead th {\n",
       "        text-align: right;\n",
       "    }\n",
       "</style>\n",
       "<table border=\"1\" class=\"dataframe\">\n",
       "  <thead>\n",
       "    <tr style=\"text-align: right;\">\n",
       "      <th></th>\n",
       "      <th>Survived</th>\n",
       "      <th>Pclass</th>\n",
       "      <th>Sex</th>\n",
       "      <th>Age</th>\n",
       "      <th>SibSp</th>\n",
       "      <th>Parch</th>\n",
       "      <th>Ticket</th>\n",
       "      <th>Fare</th>\n",
       "      <th>Cabin</th>\n",
       "      <th>Embarked</th>\n",
       "    </tr>\n",
       "  </thead>\n",
       "  <tbody>\n",
       "    <tr>\n",
       "      <th>0</th>\n",
       "      <td>0</td>\n",
       "      <td>3</td>\n",
       "      <td>1</td>\n",
       "      <td>22.0</td>\n",
       "      <td>1</td>\n",
       "      <td>0</td>\n",
       "      <td>A/5 21171</td>\n",
       "      <td>7.2500</td>\n",
       "      <td>NaN</td>\n",
       "      <td>S</td>\n",
       "    </tr>\n",
       "    <tr>\n",
       "      <th>1</th>\n",
       "      <td>1</td>\n",
       "      <td>1</td>\n",
       "      <td>0</td>\n",
       "      <td>38.0</td>\n",
       "      <td>1</td>\n",
       "      <td>0</td>\n",
       "      <td>PC 17599</td>\n",
       "      <td>71.2833</td>\n",
       "      <td>C85</td>\n",
       "      <td>C</td>\n",
       "    </tr>\n",
       "    <tr>\n",
       "      <th>2</th>\n",
       "      <td>1</td>\n",
       "      <td>3</td>\n",
       "      <td>0</td>\n",
       "      <td>26.0</td>\n",
       "      <td>0</td>\n",
       "      <td>0</td>\n",
       "      <td>STON/O2. 3101282</td>\n",
       "      <td>7.9250</td>\n",
       "      <td>NaN</td>\n",
       "      <td>S</td>\n",
       "    </tr>\n",
       "    <tr>\n",
       "      <th>3</th>\n",
       "      <td>1</td>\n",
       "      <td>1</td>\n",
       "      <td>0</td>\n",
       "      <td>35.0</td>\n",
       "      <td>1</td>\n",
       "      <td>0</td>\n",
       "      <td>113803</td>\n",
       "      <td>53.1000</td>\n",
       "      <td>C123</td>\n",
       "      <td>S</td>\n",
       "    </tr>\n",
       "    <tr>\n",
       "      <th>4</th>\n",
       "      <td>0</td>\n",
       "      <td>3</td>\n",
       "      <td>1</td>\n",
       "      <td>35.0</td>\n",
       "      <td>0</td>\n",
       "      <td>0</td>\n",
       "      <td>373450</td>\n",
       "      <td>8.0500</td>\n",
       "      <td>NaN</td>\n",
       "      <td>S</td>\n",
       "    </tr>\n",
       "  </tbody>\n",
       "</table>\n",
       "</div>"
      ],
      "text/plain": [
       "   Survived  Pclass  Sex   Age  SibSp  Parch            Ticket     Fare Cabin  \\\n",
       "0         0       3    1  22.0      1      0         A/5 21171   7.2500   NaN   \n",
       "1         1       1    0  38.0      1      0          PC 17599  71.2833   C85   \n",
       "2         1       3    0  26.0      0      0  STON/O2. 3101282   7.9250   NaN   \n",
       "3         1       1    0  35.0      1      0            113803  53.1000  C123   \n",
       "4         0       3    1  35.0      0      0            373450   8.0500   NaN   \n",
       "\n",
       "  Embarked  \n",
       "0        S  \n",
       "1        C  \n",
       "2        S  \n",
       "3        S  \n",
       "4        S  "
      ]
     },
     "execution_count": 22,
     "metadata": {},
     "output_type": "execute_result"
    }
   ],
   "source": [
    "train_titanic.head()"
   ]
  },
  {
   "cell_type": "code",
   "execution_count": 23,
   "id": "3bc3a8ed",
   "metadata": {
    "execution": {
     "iopub.execute_input": "2022-08-25T21:13:13.201391Z",
     "iopub.status.busy": "2022-08-25T21:13:13.199696Z",
     "iopub.status.idle": "2022-08-25T21:13:13.209254Z",
     "shell.execute_reply": "2022-08-25T21:13:13.208000Z"
    },
    "papermill": {
     "duration": 0.042004,
     "end_time": "2022-08-25T21:13:13.211590",
     "exception": false,
     "start_time": "2022-08-25T21:13:13.169586",
     "status": "completed"
    },
    "tags": []
   },
   "outputs": [
    {
     "data": {
      "text/plain": [
       "177"
      ]
     },
     "execution_count": 23,
     "metadata": {},
     "output_type": "execute_result"
    }
   ],
   "source": [
    "train_titanic.Age.isnull().sum()"
   ]
  },
  {
   "cell_type": "code",
   "execution_count": 24,
   "id": "6b6ba712",
   "metadata": {
    "execution": {
     "iopub.execute_input": "2022-08-25T21:13:13.272684Z",
     "iopub.status.busy": "2022-08-25T21:13:13.271289Z",
     "iopub.status.idle": "2022-08-25T21:13:13.279463Z",
     "shell.execute_reply": "2022-08-25T21:13:13.278212Z"
    },
    "papermill": {
     "duration": 0.041302,
     "end_time": "2022-08-25T21:13:13.282117",
     "exception": false,
     "start_time": "2022-08-25T21:13:13.240815",
     "status": "completed"
    },
    "tags": []
   },
   "outputs": [
    {
     "data": {
      "text/plain": [
       "29.69911764705882"
      ]
     },
     "execution_count": 24,
     "metadata": {},
     "output_type": "execute_result"
    }
   ],
   "source": [
    "train_titanic.Age.mean()"
   ]
  },
  {
   "cell_type": "code",
   "execution_count": 25,
   "id": "bf86ba3a",
   "metadata": {
    "execution": {
     "iopub.execute_input": "2022-08-25T21:13:13.345295Z",
     "iopub.status.busy": "2022-08-25T21:13:13.343676Z",
     "iopub.status.idle": "2022-08-25T21:13:13.353291Z",
     "shell.execute_reply": "2022-08-25T21:13:13.352280Z"
    },
    "papermill": {
     "duration": 0.04302,
     "end_time": "2022-08-25T21:13:13.355757",
     "exception": false,
     "start_time": "2022-08-25T21:13:13.312737",
     "status": "completed"
    },
    "tags": []
   },
   "outputs": [
    {
     "data": {
      "text/plain": [
       "28.0"
      ]
     },
     "execution_count": 25,
     "metadata": {},
     "output_type": "execute_result"
    }
   ],
   "source": [
    "train_titanic.Age.median()"
   ]
  },
  {
   "cell_type": "code",
   "execution_count": 26,
   "id": "14f48206",
   "metadata": {
    "execution": {
     "iopub.execute_input": "2022-08-25T21:13:13.414567Z",
     "iopub.status.busy": "2022-08-25T21:13:13.414068Z",
     "iopub.status.idle": "2022-08-25T21:13:13.420875Z",
     "shell.execute_reply": "2022-08-25T21:13:13.419595Z"
    },
    "papermill": {
     "duration": 0.038449,
     "end_time": "2022-08-25T21:13:13.423275",
     "exception": false,
     "start_time": "2022-08-25T21:13:13.384826",
     "status": "completed"
    },
    "tags": []
   },
   "outputs": [],
   "source": [
    "train_titanic.Age.fillna(train_titanic.Age.mean(), inplace = True)        # filling mean of Age column in null value"
   ]
  },
  {
   "cell_type": "code",
   "execution_count": 27,
   "id": "4c2e9503",
   "metadata": {
    "execution": {
     "iopub.execute_input": "2022-08-25T21:13:13.480643Z",
     "iopub.status.busy": "2022-08-25T21:13:13.479425Z",
     "iopub.status.idle": "2022-08-25T21:13:13.494044Z",
     "shell.execute_reply": "2022-08-25T21:13:13.492555Z"
    },
    "papermill": {
     "duration": 0.046007,
     "end_time": "2022-08-25T21:13:13.496684",
     "exception": false,
     "start_time": "2022-08-25T21:13:13.450677",
     "status": "completed"
    },
    "tags": []
   },
   "outputs": [
    {
     "data": {
      "text/html": [
       "<div>\n",
       "<style scoped>\n",
       "    .dataframe tbody tr th:only-of-type {\n",
       "        vertical-align: middle;\n",
       "    }\n",
       "\n",
       "    .dataframe tbody tr th {\n",
       "        vertical-align: top;\n",
       "    }\n",
       "\n",
       "    .dataframe thead th {\n",
       "        text-align: right;\n",
       "    }\n",
       "</style>\n",
       "<table border=\"1\" class=\"dataframe\">\n",
       "  <thead>\n",
       "    <tr style=\"text-align: right;\">\n",
       "      <th></th>\n",
       "      <th>Survived</th>\n",
       "      <th>Pclass</th>\n",
       "      <th>Sex</th>\n",
       "      <th>Age</th>\n",
       "      <th>SibSp</th>\n",
       "      <th>Parch</th>\n",
       "      <th>Ticket</th>\n",
       "      <th>Fare</th>\n",
       "      <th>Cabin</th>\n",
       "      <th>Embarked</th>\n",
       "    </tr>\n",
       "  </thead>\n",
       "  <tbody>\n",
       "  </tbody>\n",
       "</table>\n",
       "</div>"
      ],
      "text/plain": [
       "Empty DataFrame\n",
       "Columns: [Survived, Pclass, Sex, Age, SibSp, Parch, Ticket, Fare, Cabin, Embarked]\n",
       "Index: []"
      ]
     },
     "execution_count": 27,
     "metadata": {},
     "output_type": "execute_result"
    }
   ],
   "source": [
    "train_titanic[train_titanic.Age == 0]"
   ]
  },
  {
   "cell_type": "code",
   "execution_count": 28,
   "id": "1cf63039",
   "metadata": {
    "execution": {
     "iopub.execute_input": "2022-08-25T21:13:13.554686Z",
     "iopub.status.busy": "2022-08-25T21:13:13.553609Z",
     "iopub.status.idle": "2022-08-25T21:13:13.563433Z",
     "shell.execute_reply": "2022-08-25T21:13:13.562276Z"
    },
    "papermill": {
     "duration": 0.041197,
     "end_time": "2022-08-25T21:13:13.565605",
     "exception": false,
     "start_time": "2022-08-25T21:13:13.524408",
     "status": "completed"
    },
    "tags": []
   },
   "outputs": [
    {
     "data": {
      "text/plain": [
       "dtype('float64')"
      ]
     },
     "execution_count": 28,
     "metadata": {},
     "output_type": "execute_result"
    }
   ],
   "source": [
    "train_titanic.Age.dtype"
   ]
  },
  {
   "cell_type": "code",
   "execution_count": 29,
   "id": "311c48bd",
   "metadata": {
    "execution": {
     "iopub.execute_input": "2022-08-25T21:13:13.623450Z",
     "iopub.status.busy": "2022-08-25T21:13:13.621798Z",
     "iopub.status.idle": "2022-08-25T21:13:13.629161Z",
     "shell.execute_reply": "2022-08-25T21:13:13.628013Z"
    },
    "papermill": {
     "duration": 0.038682,
     "end_time": "2022-08-25T21:13:13.631587",
     "exception": false,
     "start_time": "2022-08-25T21:13:13.592905",
     "status": "completed"
    },
    "tags": []
   },
   "outputs": [],
   "source": [
    "train_titanic.Age = train_titanic.Age.astype('int64')         # changing data type of Age column"
   ]
  },
  {
   "cell_type": "code",
   "execution_count": 30,
   "id": "0bd23590",
   "metadata": {
    "execution": {
     "iopub.execute_input": "2022-08-25T21:13:13.689410Z",
     "iopub.status.busy": "2022-08-25T21:13:13.688284Z",
     "iopub.status.idle": "2022-08-25T21:13:13.695797Z",
     "shell.execute_reply": "2022-08-25T21:13:13.694705Z"
    },
    "papermill": {
     "duration": 0.038681,
     "end_time": "2022-08-25T21:13:13.697952",
     "exception": false,
     "start_time": "2022-08-25T21:13:13.659271",
     "status": "completed"
    },
    "tags": []
   },
   "outputs": [
    {
     "data": {
      "text/plain": [
       "dtype('int64')"
      ]
     },
     "execution_count": 30,
     "metadata": {},
     "output_type": "execute_result"
    }
   ],
   "source": [
    "train_titanic.Age.dtype"
   ]
  },
  {
   "cell_type": "code",
   "execution_count": 31,
   "id": "a7ae7486",
   "metadata": {
    "execution": {
     "iopub.execute_input": "2022-08-25T21:13:13.755299Z",
     "iopub.status.busy": "2022-08-25T21:13:13.754516Z",
     "iopub.status.idle": "2022-08-25T21:13:13.774351Z",
     "shell.execute_reply": "2022-08-25T21:13:13.772707Z"
    },
    "papermill": {
     "duration": 0.052179,
     "end_time": "2022-08-25T21:13:13.777564",
     "exception": false,
     "start_time": "2022-08-25T21:13:13.725385",
     "status": "completed"
    },
    "tags": []
   },
   "outputs": [
    {
     "data": {
      "text/html": [
       "<div>\n",
       "<style scoped>\n",
       "    .dataframe tbody tr th:only-of-type {\n",
       "        vertical-align: middle;\n",
       "    }\n",
       "\n",
       "    .dataframe tbody tr th {\n",
       "        vertical-align: top;\n",
       "    }\n",
       "\n",
       "    .dataframe thead th {\n",
       "        text-align: right;\n",
       "    }\n",
       "</style>\n",
       "<table border=\"1\" class=\"dataframe\">\n",
       "  <thead>\n",
       "    <tr style=\"text-align: right;\">\n",
       "      <th></th>\n",
       "      <th>Survived</th>\n",
       "      <th>Pclass</th>\n",
       "      <th>Sex</th>\n",
       "      <th>Age</th>\n",
       "      <th>SibSp</th>\n",
       "      <th>Parch</th>\n",
       "      <th>Ticket</th>\n",
       "      <th>Fare</th>\n",
       "      <th>Cabin</th>\n",
       "      <th>Embarked</th>\n",
       "    </tr>\n",
       "  </thead>\n",
       "  <tbody>\n",
       "    <tr>\n",
       "      <th>78</th>\n",
       "      <td>1</td>\n",
       "      <td>2</td>\n",
       "      <td>1</td>\n",
       "      <td>0</td>\n",
       "      <td>0</td>\n",
       "      <td>2</td>\n",
       "      <td>248738</td>\n",
       "      <td>29.0000</td>\n",
       "      <td>NaN</td>\n",
       "      <td>S</td>\n",
       "    </tr>\n",
       "    <tr>\n",
       "      <th>305</th>\n",
       "      <td>1</td>\n",
       "      <td>1</td>\n",
       "      <td>1</td>\n",
       "      <td>0</td>\n",
       "      <td>1</td>\n",
       "      <td>2</td>\n",
       "      <td>113781</td>\n",
       "      <td>151.5500</td>\n",
       "      <td>C22 C26</td>\n",
       "      <td>S</td>\n",
       "    </tr>\n",
       "    <tr>\n",
       "      <th>469</th>\n",
       "      <td>1</td>\n",
       "      <td>3</td>\n",
       "      <td>0</td>\n",
       "      <td>0</td>\n",
       "      <td>2</td>\n",
       "      <td>1</td>\n",
       "      <td>2666</td>\n",
       "      <td>19.2583</td>\n",
       "      <td>NaN</td>\n",
       "      <td>C</td>\n",
       "    </tr>\n",
       "    <tr>\n",
       "      <th>644</th>\n",
       "      <td>1</td>\n",
       "      <td>3</td>\n",
       "      <td>0</td>\n",
       "      <td>0</td>\n",
       "      <td>2</td>\n",
       "      <td>1</td>\n",
       "      <td>2666</td>\n",
       "      <td>19.2583</td>\n",
       "      <td>NaN</td>\n",
       "      <td>C</td>\n",
       "    </tr>\n",
       "    <tr>\n",
       "      <th>755</th>\n",
       "      <td>1</td>\n",
       "      <td>2</td>\n",
       "      <td>1</td>\n",
       "      <td>0</td>\n",
       "      <td>1</td>\n",
       "      <td>1</td>\n",
       "      <td>250649</td>\n",
       "      <td>14.5000</td>\n",
       "      <td>NaN</td>\n",
       "      <td>S</td>\n",
       "    </tr>\n",
       "    <tr>\n",
       "      <th>803</th>\n",
       "      <td>1</td>\n",
       "      <td>3</td>\n",
       "      <td>1</td>\n",
       "      <td>0</td>\n",
       "      <td>0</td>\n",
       "      <td>1</td>\n",
       "      <td>2625</td>\n",
       "      <td>8.5167</td>\n",
       "      <td>NaN</td>\n",
       "      <td>C</td>\n",
       "    </tr>\n",
       "    <tr>\n",
       "      <th>831</th>\n",
       "      <td>1</td>\n",
       "      <td>2</td>\n",
       "      <td>1</td>\n",
       "      <td>0</td>\n",
       "      <td>1</td>\n",
       "      <td>1</td>\n",
       "      <td>29106</td>\n",
       "      <td>18.7500</td>\n",
       "      <td>NaN</td>\n",
       "      <td>S</td>\n",
       "    </tr>\n",
       "  </tbody>\n",
       "</table>\n",
       "</div>"
      ],
      "text/plain": [
       "     Survived  Pclass  Sex  Age  SibSp  Parch  Ticket      Fare    Cabin  \\\n",
       "78          1       2    1    0      0      2  248738   29.0000      NaN   \n",
       "305         1       1    1    0      1      2  113781  151.5500  C22 C26   \n",
       "469         1       3    0    0      2      1    2666   19.2583      NaN   \n",
       "644         1       3    0    0      2      1    2666   19.2583      NaN   \n",
       "755         1       2    1    0      1      1  250649   14.5000      NaN   \n",
       "803         1       3    1    0      0      1    2625    8.5167      NaN   \n",
       "831         1       2    1    0      1      1   29106   18.7500      NaN   \n",
       "\n",
       "    Embarked  \n",
       "78         S  \n",
       "305        S  \n",
       "469        C  \n",
       "644        C  \n",
       "755        S  \n",
       "803        C  \n",
       "831        S  "
      ]
     },
     "execution_count": 31,
     "metadata": {},
     "output_type": "execute_result"
    }
   ],
   "source": [
    "train_titanic[train_titanic.Age == 0]"
   ]
  },
  {
   "cell_type": "code",
   "execution_count": 32,
   "id": "b4b36769",
   "metadata": {
    "execution": {
     "iopub.execute_input": "2022-08-25T21:13:13.839616Z",
     "iopub.status.busy": "2022-08-25T21:13:13.839115Z",
     "iopub.status.idle": "2022-08-25T21:13:13.849815Z",
     "shell.execute_reply": "2022-08-25T21:13:13.848144Z"
    },
    "papermill": {
     "duration": 0.044782,
     "end_time": "2022-08-25T21:13:13.852375",
     "exception": false,
     "start_time": "2022-08-25T21:13:13.807593",
     "status": "completed"
    },
    "tags": []
   },
   "outputs": [
    {
     "data": {
      "text/plain": [
       "29.544332210998878"
      ]
     },
     "execution_count": 32,
     "metadata": {},
     "output_type": "execute_result"
    }
   ],
   "source": [
    "train_titanic.Age.mean()"
   ]
  },
  {
   "cell_type": "code",
   "execution_count": 33,
   "id": "3e4a85aa",
   "metadata": {
    "execution": {
     "iopub.execute_input": "2022-08-25T21:13:13.913235Z",
     "iopub.status.busy": "2022-08-25T21:13:13.912702Z",
     "iopub.status.idle": "2022-08-25T21:13:13.920117Z",
     "shell.execute_reply": "2022-08-25T21:13:13.918946Z"
    },
    "papermill": {
     "duration": 0.040971,
     "end_time": "2022-08-25T21:13:13.923183",
     "exception": false,
     "start_time": "2022-08-25T21:13:13.882212",
     "status": "completed"
    },
    "tags": []
   },
   "outputs": [],
   "source": [
    "train_titanic.Age.replace(0, train_titanic.Age.mean(), inplace = True)        # replacing mean with 0"
   ]
  },
  {
   "cell_type": "code",
   "execution_count": 34,
   "id": "f2893850",
   "metadata": {
    "execution": {
     "iopub.execute_input": "2022-08-25T21:13:13.988632Z",
     "iopub.status.busy": "2022-08-25T21:13:13.987567Z",
     "iopub.status.idle": "2022-08-25T21:13:13.995430Z",
     "shell.execute_reply": "2022-08-25T21:13:13.994543Z"
    },
    "papermill": {
     "duration": 0.042511,
     "end_time": "2022-08-25T21:13:13.997757",
     "exception": false,
     "start_time": "2022-08-25T21:13:13.955246",
     "status": "completed"
    },
    "tags": []
   },
   "outputs": [
    {
     "data": {
      "text/plain": [
       "29.776442565069573"
      ]
     },
     "execution_count": 34,
     "metadata": {},
     "output_type": "execute_result"
    }
   ],
   "source": [
    "train_titanic.Age.mean()"
   ]
  },
  {
   "cell_type": "code",
   "execution_count": 35,
   "id": "1b2902e3",
   "metadata": {
    "execution": {
     "iopub.execute_input": "2022-08-25T21:13:14.059080Z",
     "iopub.status.busy": "2022-08-25T21:13:14.058641Z",
     "iopub.status.idle": "2022-08-25T21:13:14.065613Z",
     "shell.execute_reply": "2022-08-25T21:13:14.064690Z"
    },
    "papermill": {
     "duration": 0.039547,
     "end_time": "2022-08-25T21:13:14.067942",
     "exception": false,
     "start_time": "2022-08-25T21:13:14.028395",
     "status": "completed"
    },
    "tags": []
   },
   "outputs": [
    {
     "data": {
      "text/plain": [
       "dtype('float64')"
      ]
     },
     "execution_count": 35,
     "metadata": {},
     "output_type": "execute_result"
    }
   ],
   "source": [
    "train_titanic.Age.dtype"
   ]
  },
  {
   "cell_type": "code",
   "execution_count": 36,
   "id": "f895db72",
   "metadata": {
    "execution": {
     "iopub.execute_input": "2022-08-25T21:13:14.127954Z",
     "iopub.status.busy": "2022-08-25T21:13:14.127545Z",
     "iopub.status.idle": "2022-08-25T21:13:14.134416Z",
     "shell.execute_reply": "2022-08-25T21:13:14.133024Z"
    },
    "papermill": {
     "duration": 0.040241,
     "end_time": "2022-08-25T21:13:14.136818",
     "exception": false,
     "start_time": "2022-08-25T21:13:14.096577",
     "status": "completed"
    },
    "tags": []
   },
   "outputs": [],
   "source": [
    "train_titanic.Age = train_titanic.Age.astype('int64')"
   ]
  },
  {
   "cell_type": "code",
   "execution_count": 37,
   "id": "ee5dd93e",
   "metadata": {
    "execution": {
     "iopub.execute_input": "2022-08-25T21:13:14.197768Z",
     "iopub.status.busy": "2022-08-25T21:13:14.197046Z",
     "iopub.status.idle": "2022-08-25T21:13:14.210351Z",
     "shell.execute_reply": "2022-08-25T21:13:14.209340Z"
    },
    "papermill": {
     "duration": 0.046318,
     "end_time": "2022-08-25T21:13:14.212779",
     "exception": false,
     "start_time": "2022-08-25T21:13:14.166461",
     "status": "completed"
    },
    "tags": []
   },
   "outputs": [
    {
     "data": {
      "text/html": [
       "<div>\n",
       "<style scoped>\n",
       "    .dataframe tbody tr th:only-of-type {\n",
       "        vertical-align: middle;\n",
       "    }\n",
       "\n",
       "    .dataframe tbody tr th {\n",
       "        vertical-align: top;\n",
       "    }\n",
       "\n",
       "    .dataframe thead th {\n",
       "        text-align: right;\n",
       "    }\n",
       "</style>\n",
       "<table border=\"1\" class=\"dataframe\">\n",
       "  <thead>\n",
       "    <tr style=\"text-align: right;\">\n",
       "      <th></th>\n",
       "      <th>Survived</th>\n",
       "      <th>Pclass</th>\n",
       "      <th>Sex</th>\n",
       "      <th>Age</th>\n",
       "      <th>SibSp</th>\n",
       "      <th>Parch</th>\n",
       "      <th>Ticket</th>\n",
       "      <th>Fare</th>\n",
       "      <th>Cabin</th>\n",
       "      <th>Embarked</th>\n",
       "    </tr>\n",
       "  </thead>\n",
       "  <tbody>\n",
       "  </tbody>\n",
       "</table>\n",
       "</div>"
      ],
      "text/plain": [
       "Empty DataFrame\n",
       "Columns: [Survived, Pclass, Sex, Age, SibSp, Parch, Ticket, Fare, Cabin, Embarked]\n",
       "Index: []"
      ]
     },
     "execution_count": 37,
     "metadata": {},
     "output_type": "execute_result"
    }
   ],
   "source": [
    "train_titanic[train_titanic.Age == 0]"
   ]
  },
  {
   "cell_type": "code",
   "execution_count": 38,
   "id": "64977231",
   "metadata": {
    "execution": {
     "iopub.execute_input": "2022-08-25T21:13:14.273707Z",
     "iopub.status.busy": "2022-08-25T21:13:14.272607Z",
     "iopub.status.idle": "2022-08-25T21:13:14.289782Z",
     "shell.execute_reply": "2022-08-25T21:13:14.288182Z"
    },
    "papermill": {
     "duration": 0.049816,
     "end_time": "2022-08-25T21:13:14.292316",
     "exception": false,
     "start_time": "2022-08-25T21:13:14.242500",
     "status": "completed"
    },
    "tags": []
   },
   "outputs": [
    {
     "data": {
      "text/html": [
       "<div>\n",
       "<style scoped>\n",
       "    .dataframe tbody tr th:only-of-type {\n",
       "        vertical-align: middle;\n",
       "    }\n",
       "\n",
       "    .dataframe tbody tr th {\n",
       "        vertical-align: top;\n",
       "    }\n",
       "\n",
       "    .dataframe thead th {\n",
       "        text-align: right;\n",
       "    }\n",
       "</style>\n",
       "<table border=\"1\" class=\"dataframe\">\n",
       "  <thead>\n",
       "    <tr style=\"text-align: right;\">\n",
       "      <th></th>\n",
       "      <th>Survived</th>\n",
       "      <th>Pclass</th>\n",
       "      <th>Sex</th>\n",
       "      <th>Age</th>\n",
       "      <th>SibSp</th>\n",
       "      <th>Parch</th>\n",
       "      <th>Ticket</th>\n",
       "      <th>Fare</th>\n",
       "      <th>Cabin</th>\n",
       "      <th>Embarked</th>\n",
       "    </tr>\n",
       "  </thead>\n",
       "  <tbody>\n",
       "    <tr>\n",
       "      <th>0</th>\n",
       "      <td>0</td>\n",
       "      <td>3</td>\n",
       "      <td>1</td>\n",
       "      <td>22</td>\n",
       "      <td>1</td>\n",
       "      <td>0</td>\n",
       "      <td>A/5 21171</td>\n",
       "      <td>7.2500</td>\n",
       "      <td>NaN</td>\n",
       "      <td>S</td>\n",
       "    </tr>\n",
       "    <tr>\n",
       "      <th>1</th>\n",
       "      <td>1</td>\n",
       "      <td>1</td>\n",
       "      <td>0</td>\n",
       "      <td>38</td>\n",
       "      <td>1</td>\n",
       "      <td>0</td>\n",
       "      <td>PC 17599</td>\n",
       "      <td>71.2833</td>\n",
       "      <td>C85</td>\n",
       "      <td>C</td>\n",
       "    </tr>\n",
       "    <tr>\n",
       "      <th>2</th>\n",
       "      <td>1</td>\n",
       "      <td>3</td>\n",
       "      <td>0</td>\n",
       "      <td>26</td>\n",
       "      <td>0</td>\n",
       "      <td>0</td>\n",
       "      <td>STON/O2. 3101282</td>\n",
       "      <td>7.9250</td>\n",
       "      <td>NaN</td>\n",
       "      <td>S</td>\n",
       "    </tr>\n",
       "    <tr>\n",
       "      <th>3</th>\n",
       "      <td>1</td>\n",
       "      <td>1</td>\n",
       "      <td>0</td>\n",
       "      <td>35</td>\n",
       "      <td>1</td>\n",
       "      <td>0</td>\n",
       "      <td>113803</td>\n",
       "      <td>53.1000</td>\n",
       "      <td>C123</td>\n",
       "      <td>S</td>\n",
       "    </tr>\n",
       "    <tr>\n",
       "      <th>4</th>\n",
       "      <td>0</td>\n",
       "      <td>3</td>\n",
       "      <td>1</td>\n",
       "      <td>35</td>\n",
       "      <td>0</td>\n",
       "      <td>0</td>\n",
       "      <td>373450</td>\n",
       "      <td>8.0500</td>\n",
       "      <td>NaN</td>\n",
       "      <td>S</td>\n",
       "    </tr>\n",
       "  </tbody>\n",
       "</table>\n",
       "</div>"
      ],
      "text/plain": [
       "   Survived  Pclass  Sex  Age  SibSp  Parch            Ticket     Fare Cabin  \\\n",
       "0         0       3    1   22      1      0         A/5 21171   7.2500   NaN   \n",
       "1         1       1    0   38      1      0          PC 17599  71.2833   C85   \n",
       "2         1       3    0   26      0      0  STON/O2. 3101282   7.9250   NaN   \n",
       "3         1       1    0   35      1      0            113803  53.1000  C123   \n",
       "4         0       3    1   35      0      0            373450   8.0500   NaN   \n",
       "\n",
       "  Embarked  \n",
       "0        S  \n",
       "1        C  \n",
       "2        S  \n",
       "3        S  \n",
       "4        S  "
      ]
     },
     "execution_count": 38,
     "metadata": {},
     "output_type": "execute_result"
    }
   ],
   "source": [
    "train_titanic.head()"
   ]
  },
  {
   "cell_type": "code",
   "execution_count": 39,
   "id": "ca1cdad8",
   "metadata": {
    "execution": {
     "iopub.execute_input": "2022-08-25T21:13:14.353733Z",
     "iopub.status.busy": "2022-08-25T21:13:14.352322Z",
     "iopub.status.idle": "2022-08-25T21:13:14.360507Z",
     "shell.execute_reply": "2022-08-25T21:13:14.359565Z"
    },
    "papermill": {
     "duration": 0.040956,
     "end_time": "2022-08-25T21:13:14.362689",
     "exception": false,
     "start_time": "2022-08-25T21:13:14.321733",
     "status": "completed"
    },
    "tags": []
   },
   "outputs": [
    {
     "data": {
      "text/plain": [
       "array([1, 0, 3, 4, 2, 5, 8])"
      ]
     },
     "execution_count": 39,
     "metadata": {},
     "output_type": "execute_result"
    }
   ],
   "source": [
    "train_titanic.SibSp.unique()         # unique class present in SibSp column"
   ]
  },
  {
   "cell_type": "code",
   "execution_count": 40,
   "id": "432438ce",
   "metadata": {
    "execution": {
     "iopub.execute_input": "2022-08-25T21:13:14.423508Z",
     "iopub.status.busy": "2022-08-25T21:13:14.422588Z",
     "iopub.status.idle": "2022-08-25T21:13:14.432443Z",
     "shell.execute_reply": "2022-08-25T21:13:14.431225Z"
    },
    "papermill": {
     "duration": 0.043115,
     "end_time": "2022-08-25T21:13:14.434875",
     "exception": false,
     "start_time": "2022-08-25T21:13:14.391760",
     "status": "completed"
    },
    "tags": []
   },
   "outputs": [
    {
     "data": {
      "text/plain": [
       "0    608\n",
       "1    209\n",
       "2     28\n",
       "4     18\n",
       "3     16\n",
       "8      7\n",
       "5      5\n",
       "Name: SibSp, dtype: int64"
      ]
     },
     "execution_count": 40,
     "metadata": {},
     "output_type": "execute_result"
    }
   ],
   "source": [
    "train_titanic.SibSp.value_counts()          # value count of unique class in SibSp column"
   ]
  },
  {
   "cell_type": "code",
   "execution_count": 41,
   "id": "57562690",
   "metadata": {
    "execution": {
     "iopub.execute_input": "2022-08-25T21:13:14.495205Z",
     "iopub.status.busy": "2022-08-25T21:13:14.494307Z",
     "iopub.status.idle": "2022-08-25T21:13:14.501715Z",
     "shell.execute_reply": "2022-08-25T21:13:14.500837Z"
    },
    "papermill": {
     "duration": 0.040056,
     "end_time": "2022-08-25T21:13:14.503963",
     "exception": false,
     "start_time": "2022-08-25T21:13:14.463907",
     "status": "completed"
    },
    "tags": []
   },
   "outputs": [
    {
     "data": {
      "text/plain": [
       "array([0, 1, 2, 5, 3, 4, 6])"
      ]
     },
     "execution_count": 41,
     "metadata": {},
     "output_type": "execute_result"
    }
   ],
   "source": [
    "train_titanic.Parch.unique()         # unique class present in Parch column"
   ]
  },
  {
   "cell_type": "code",
   "execution_count": 42,
   "id": "88441fd9",
   "metadata": {
    "execution": {
     "iopub.execute_input": "2022-08-25T21:13:14.572911Z",
     "iopub.status.busy": "2022-08-25T21:13:14.572099Z",
     "iopub.status.idle": "2022-08-25T21:13:14.582314Z",
     "shell.execute_reply": "2022-08-25T21:13:14.580902Z"
    },
    "papermill": {
     "duration": 0.047453,
     "end_time": "2022-08-25T21:13:14.584868",
     "exception": false,
     "start_time": "2022-08-25T21:13:14.537415",
     "status": "completed"
    },
    "tags": []
   },
   "outputs": [
    {
     "data": {
      "text/plain": [
       "0    678\n",
       "1    118\n",
       "2     80\n",
       "5      5\n",
       "3      5\n",
       "4      4\n",
       "6      1\n",
       "Name: Parch, dtype: int64"
      ]
     },
     "execution_count": 42,
     "metadata": {},
     "output_type": "execute_result"
    }
   ],
   "source": [
    "train_titanic.Parch.value_counts()          # value count of unique class in Parch column"
   ]
  },
  {
   "cell_type": "code",
   "execution_count": 43,
   "id": "63dfce93",
   "metadata": {
    "execution": {
     "iopub.execute_input": "2022-08-25T21:13:14.647001Z",
     "iopub.status.busy": "2022-08-25T21:13:14.646185Z",
     "iopub.status.idle": "2022-08-25T21:13:14.655564Z",
     "shell.execute_reply": "2022-08-25T21:13:14.653858Z"
    },
    "papermill": {
     "duration": 0.043946,
     "end_time": "2022-08-25T21:13:14.658493",
     "exception": false,
     "start_time": "2022-08-25T21:13:14.614547",
     "status": "completed"
    },
    "tags": []
   },
   "outputs": [
    {
     "data": {
      "text/plain": [
       "681"
      ]
     },
     "execution_count": 43,
     "metadata": {},
     "output_type": "execute_result"
    }
   ],
   "source": [
    "train_titanic.Ticket.nunique() "
   ]
  },
  {
   "cell_type": "code",
   "execution_count": 44,
   "id": "cf5bc0fa",
   "metadata": {
    "execution": {
     "iopub.execute_input": "2022-08-25T21:13:14.721610Z",
     "iopub.status.busy": "2022-08-25T21:13:14.721142Z",
     "iopub.status.idle": "2022-08-25T21:13:14.730366Z",
     "shell.execute_reply": "2022-08-25T21:13:14.729507Z"
    },
    "papermill": {
     "duration": 0.044028,
     "end_time": "2022-08-25T21:13:14.733188",
     "exception": false,
     "start_time": "2022-08-25T21:13:14.689160",
     "status": "completed"
    },
    "tags": []
   },
   "outputs": [
    {
     "data": {
      "text/plain": [
       "array([7, 6, 5, 4, 3, 2, 1])"
      ]
     },
     "execution_count": 44,
     "metadata": {},
     "output_type": "execute_result"
    }
   ],
   "source": [
    "train_titanic.Ticket.value_counts().unique()"
   ]
  },
  {
   "cell_type": "code",
   "execution_count": 45,
   "id": "5e700de2",
   "metadata": {
    "execution": {
     "iopub.execute_input": "2022-08-25T21:13:14.800518Z",
     "iopub.status.busy": "2022-08-25T21:13:14.799635Z",
     "iopub.status.idle": "2022-08-25T21:13:14.807737Z",
     "shell.execute_reply": "2022-08-25T21:13:14.806405Z"
    },
    "papermill": {
     "duration": 0.044572,
     "end_time": "2022-08-25T21:13:14.810606",
     "exception": false,
     "start_time": "2022-08-25T21:13:14.766034",
     "status": "completed"
    },
    "tags": []
   },
   "outputs": [],
   "source": [
    "# here we don't have information of allocation of ticket and services so we can assume that a person having same ticket gets \n",
    "# same service so it shouldn't impect on result that's why I am removing this Ticket column \n",
    "\n",
    "train_titanic.drop('Ticket', axis = 1, inplace = True)"
   ]
  },
  {
   "cell_type": "code",
   "execution_count": 46,
   "id": "5e264d34",
   "metadata": {
    "execution": {
     "iopub.execute_input": "2022-08-25T21:13:14.874527Z",
     "iopub.status.busy": "2022-08-25T21:13:14.874066Z",
     "iopub.status.idle": "2022-08-25T21:13:14.885852Z",
     "shell.execute_reply": "2022-08-25T21:13:14.884368Z"
    },
    "papermill": {
     "duration": 0.047246,
     "end_time": "2022-08-25T21:13:14.888228",
     "exception": false,
     "start_time": "2022-08-25T21:13:14.840982",
     "status": "completed"
    },
    "tags": []
   },
   "outputs": [
    {
     "data": {
      "text/plain": [
       "0       7.2500\n",
       "1      71.2833\n",
       "2       7.9250\n",
       "3      53.1000\n",
       "4       8.0500\n",
       "        ...   \n",
       "886    13.0000\n",
       "887    30.0000\n",
       "888    23.4500\n",
       "889    30.0000\n",
       "890     7.7500\n",
       "Name: Fare, Length: 891, dtype: float64"
      ]
     },
     "execution_count": 46,
     "metadata": {},
     "output_type": "execute_result"
    }
   ],
   "source": [
    "train_titanic.Fare  # this was working in jupyter notebook as train_titanic.Fare.info() here I removed info() because of error."
   ]
  },
  {
   "cell_type": "code",
   "execution_count": 47,
   "id": "2a18ddaf",
   "metadata": {
    "execution": {
     "iopub.execute_input": "2022-08-25T21:13:14.950833Z",
     "iopub.status.busy": "2022-08-25T21:13:14.950115Z",
     "iopub.status.idle": "2022-08-25T21:13:14.970070Z",
     "shell.execute_reply": "2022-08-25T21:13:14.968655Z"
    },
    "papermill": {
     "duration": 0.054468,
     "end_time": "2022-08-25T21:13:14.972669",
     "exception": false,
     "start_time": "2022-08-25T21:13:14.918201",
     "status": "completed"
    },
    "tags": []
   },
   "outputs": [
    {
     "data": {
      "text/html": [
       "<div>\n",
       "<style scoped>\n",
       "    .dataframe tbody tr th:only-of-type {\n",
       "        vertical-align: middle;\n",
       "    }\n",
       "\n",
       "    .dataframe tbody tr th {\n",
       "        vertical-align: top;\n",
       "    }\n",
       "\n",
       "    .dataframe thead th {\n",
       "        text-align: right;\n",
       "    }\n",
       "</style>\n",
       "<table border=\"1\" class=\"dataframe\">\n",
       "  <thead>\n",
       "    <tr style=\"text-align: right;\">\n",
       "      <th></th>\n",
       "      <th>Survived</th>\n",
       "      <th>Pclass</th>\n",
       "      <th>Sex</th>\n",
       "      <th>Age</th>\n",
       "      <th>SibSp</th>\n",
       "      <th>Parch</th>\n",
       "      <th>Fare</th>\n",
       "      <th>Cabin</th>\n",
       "      <th>Embarked</th>\n",
       "    </tr>\n",
       "  </thead>\n",
       "  <tbody>\n",
       "    <tr>\n",
       "      <th>179</th>\n",
       "      <td>0</td>\n",
       "      <td>3</td>\n",
       "      <td>1</td>\n",
       "      <td>36</td>\n",
       "      <td>0</td>\n",
       "      <td>0</td>\n",
       "      <td>0.0</td>\n",
       "      <td>NaN</td>\n",
       "      <td>S</td>\n",
       "    </tr>\n",
       "    <tr>\n",
       "      <th>263</th>\n",
       "      <td>0</td>\n",
       "      <td>1</td>\n",
       "      <td>1</td>\n",
       "      <td>40</td>\n",
       "      <td>0</td>\n",
       "      <td>0</td>\n",
       "      <td>0.0</td>\n",
       "      <td>B94</td>\n",
       "      <td>S</td>\n",
       "    </tr>\n",
       "    <tr>\n",
       "      <th>271</th>\n",
       "      <td>1</td>\n",
       "      <td>3</td>\n",
       "      <td>1</td>\n",
       "      <td>25</td>\n",
       "      <td>0</td>\n",
       "      <td>0</td>\n",
       "      <td>0.0</td>\n",
       "      <td>NaN</td>\n",
       "      <td>S</td>\n",
       "    </tr>\n",
       "    <tr>\n",
       "      <th>277</th>\n",
       "      <td>0</td>\n",
       "      <td>2</td>\n",
       "      <td>1</td>\n",
       "      <td>29</td>\n",
       "      <td>0</td>\n",
       "      <td>0</td>\n",
       "      <td>0.0</td>\n",
       "      <td>NaN</td>\n",
       "      <td>S</td>\n",
       "    </tr>\n",
       "    <tr>\n",
       "      <th>302</th>\n",
       "      <td>0</td>\n",
       "      <td>3</td>\n",
       "      <td>1</td>\n",
       "      <td>19</td>\n",
       "      <td>0</td>\n",
       "      <td>0</td>\n",
       "      <td>0.0</td>\n",
       "      <td>NaN</td>\n",
       "      <td>S</td>\n",
       "    </tr>\n",
       "    <tr>\n",
       "      <th>413</th>\n",
       "      <td>0</td>\n",
       "      <td>2</td>\n",
       "      <td>1</td>\n",
       "      <td>29</td>\n",
       "      <td>0</td>\n",
       "      <td>0</td>\n",
       "      <td>0.0</td>\n",
       "      <td>NaN</td>\n",
       "      <td>S</td>\n",
       "    </tr>\n",
       "    <tr>\n",
       "      <th>466</th>\n",
       "      <td>0</td>\n",
       "      <td>2</td>\n",
       "      <td>1</td>\n",
       "      <td>29</td>\n",
       "      <td>0</td>\n",
       "      <td>0</td>\n",
       "      <td>0.0</td>\n",
       "      <td>NaN</td>\n",
       "      <td>S</td>\n",
       "    </tr>\n",
       "    <tr>\n",
       "      <th>481</th>\n",
       "      <td>0</td>\n",
       "      <td>2</td>\n",
       "      <td>1</td>\n",
       "      <td>29</td>\n",
       "      <td>0</td>\n",
       "      <td>0</td>\n",
       "      <td>0.0</td>\n",
       "      <td>NaN</td>\n",
       "      <td>S</td>\n",
       "    </tr>\n",
       "    <tr>\n",
       "      <th>597</th>\n",
       "      <td>0</td>\n",
       "      <td>3</td>\n",
       "      <td>1</td>\n",
       "      <td>49</td>\n",
       "      <td>0</td>\n",
       "      <td>0</td>\n",
       "      <td>0.0</td>\n",
       "      <td>NaN</td>\n",
       "      <td>S</td>\n",
       "    </tr>\n",
       "    <tr>\n",
       "      <th>633</th>\n",
       "      <td>0</td>\n",
       "      <td>1</td>\n",
       "      <td>1</td>\n",
       "      <td>29</td>\n",
       "      <td>0</td>\n",
       "      <td>0</td>\n",
       "      <td>0.0</td>\n",
       "      <td>NaN</td>\n",
       "      <td>S</td>\n",
       "    </tr>\n",
       "    <tr>\n",
       "      <th>674</th>\n",
       "      <td>0</td>\n",
       "      <td>2</td>\n",
       "      <td>1</td>\n",
       "      <td>29</td>\n",
       "      <td>0</td>\n",
       "      <td>0</td>\n",
       "      <td>0.0</td>\n",
       "      <td>NaN</td>\n",
       "      <td>S</td>\n",
       "    </tr>\n",
       "    <tr>\n",
       "      <th>732</th>\n",
       "      <td>0</td>\n",
       "      <td>2</td>\n",
       "      <td>1</td>\n",
       "      <td>29</td>\n",
       "      <td>0</td>\n",
       "      <td>0</td>\n",
       "      <td>0.0</td>\n",
       "      <td>NaN</td>\n",
       "      <td>S</td>\n",
       "    </tr>\n",
       "    <tr>\n",
       "      <th>806</th>\n",
       "      <td>0</td>\n",
       "      <td>1</td>\n",
       "      <td>1</td>\n",
       "      <td>39</td>\n",
       "      <td>0</td>\n",
       "      <td>0</td>\n",
       "      <td>0.0</td>\n",
       "      <td>A36</td>\n",
       "      <td>S</td>\n",
       "    </tr>\n",
       "    <tr>\n",
       "      <th>815</th>\n",
       "      <td>0</td>\n",
       "      <td>1</td>\n",
       "      <td>1</td>\n",
       "      <td>29</td>\n",
       "      <td>0</td>\n",
       "      <td>0</td>\n",
       "      <td>0.0</td>\n",
       "      <td>B102</td>\n",
       "      <td>S</td>\n",
       "    </tr>\n",
       "    <tr>\n",
       "      <th>822</th>\n",
       "      <td>0</td>\n",
       "      <td>1</td>\n",
       "      <td>1</td>\n",
       "      <td>38</td>\n",
       "      <td>0</td>\n",
       "      <td>0</td>\n",
       "      <td>0.0</td>\n",
       "      <td>NaN</td>\n",
       "      <td>S</td>\n",
       "    </tr>\n",
       "  </tbody>\n",
       "</table>\n",
       "</div>"
      ],
      "text/plain": [
       "     Survived  Pclass  Sex  Age  SibSp  Parch  Fare Cabin Embarked\n",
       "179         0       3    1   36      0      0   0.0   NaN        S\n",
       "263         0       1    1   40      0      0   0.0   B94        S\n",
       "271         1       3    1   25      0      0   0.0   NaN        S\n",
       "277         0       2    1   29      0      0   0.0   NaN        S\n",
       "302         0       3    1   19      0      0   0.0   NaN        S\n",
       "413         0       2    1   29      0      0   0.0   NaN        S\n",
       "466         0       2    1   29      0      0   0.0   NaN        S\n",
       "481         0       2    1   29      0      0   0.0   NaN        S\n",
       "597         0       3    1   49      0      0   0.0   NaN        S\n",
       "633         0       1    1   29      0      0   0.0   NaN        S\n",
       "674         0       2    1   29      0      0   0.0   NaN        S\n",
       "732         0       2    1   29      0      0   0.0   NaN        S\n",
       "806         0       1    1   39      0      0   0.0   A36        S\n",
       "815         0       1    1   29      0      0   0.0  B102        S\n",
       "822         0       1    1   38      0      0   0.0   NaN        S"
      ]
     },
     "execution_count": 47,
     "metadata": {},
     "output_type": "execute_result"
    }
   ],
   "source": [
    "train_titanic[train_titanic.Fare == 0]"
   ]
  },
  {
   "cell_type": "code",
   "execution_count": 48,
   "id": "27625c80",
   "metadata": {
    "execution": {
     "iopub.execute_input": "2022-08-25T21:13:15.039616Z",
     "iopub.status.busy": "2022-08-25T21:13:15.039149Z",
     "iopub.status.idle": "2022-08-25T21:13:15.045956Z",
     "shell.execute_reply": "2022-08-25T21:13:15.044868Z"
    },
    "papermill": {
     "duration": 0.043022,
     "end_time": "2022-08-25T21:13:15.047949",
     "exception": false,
     "start_time": "2022-08-25T21:13:15.004927",
     "status": "completed"
    },
    "tags": []
   },
   "outputs": [
    {
     "data": {
      "text/plain": [
       "32.204207968574636"
      ]
     },
     "execution_count": 48,
     "metadata": {},
     "output_type": "execute_result"
    }
   ],
   "source": [
    "train_titanic.Fare.mean()"
   ]
  },
  {
   "cell_type": "code",
   "execution_count": 49,
   "id": "f1ebe692",
   "metadata": {
    "execution": {
     "iopub.execute_input": "2022-08-25T21:13:15.114614Z",
     "iopub.status.busy": "2022-08-25T21:13:15.113786Z",
     "iopub.status.idle": "2022-08-25T21:13:15.119805Z",
     "shell.execute_reply": "2022-08-25T21:13:15.118932Z"
    },
    "papermill": {
     "duration": 0.043235,
     "end_time": "2022-08-25T21:13:15.122556",
     "exception": false,
     "start_time": "2022-08-25T21:13:15.079321",
     "status": "completed"
    },
    "tags": []
   },
   "outputs": [],
   "source": [
    "train_titanic.Fare.replace(0, train_titanic.Fare.mean(), inplace = True)      # replacing mean of Fare column with 0"
   ]
  },
  {
   "cell_type": "code",
   "execution_count": 50,
   "id": "541c95f8",
   "metadata": {
    "execution": {
     "iopub.execute_input": "2022-08-25T21:13:15.187647Z",
     "iopub.status.busy": "2022-08-25T21:13:15.186829Z",
     "iopub.status.idle": "2022-08-25T21:13:15.194271Z",
     "shell.execute_reply": "2022-08-25T21:13:15.192834Z"
    },
    "papermill": {
     "duration": 0.043377,
     "end_time": "2022-08-25T21:13:15.196980",
     "exception": false,
     "start_time": "2022-08-25T21:13:15.153603",
     "status": "completed"
    },
    "tags": []
   },
   "outputs": [
    {
     "data": {
      "text/plain": [
       "32.74636635188397"
      ]
     },
     "execution_count": 50,
     "metadata": {},
     "output_type": "execute_result"
    }
   ],
   "source": [
    "train_titanic.Fare.mean()"
   ]
  },
  {
   "cell_type": "code",
   "execution_count": 51,
   "id": "5b89f36d",
   "metadata": {
    "execution": {
     "iopub.execute_input": "2022-08-25T21:13:15.266600Z",
     "iopub.status.busy": "2022-08-25T21:13:15.264936Z",
     "iopub.status.idle": "2022-08-25T21:13:15.277106Z",
     "shell.execute_reply": "2022-08-25T21:13:15.275964Z"
    },
    "papermill": {
     "duration": 0.04931,
     "end_time": "2022-08-25T21:13:15.279559",
     "exception": false,
     "start_time": "2022-08-25T21:13:15.230249",
     "status": "completed"
    },
    "tags": []
   },
   "outputs": [
    {
     "data": {
      "text/plain": [
       "Survived      0\n",
       "Pclass        0\n",
       "Sex           0\n",
       "Age           0\n",
       "SibSp         0\n",
       "Parch         0\n",
       "Fare          0\n",
       "Cabin       687\n",
       "Embarked      2\n",
       "dtype: int64"
      ]
     },
     "execution_count": 51,
     "metadata": {},
     "output_type": "execute_result"
    }
   ],
   "source": [
    "train_titanic.isnull().sum()"
   ]
  },
  {
   "cell_type": "code",
   "execution_count": 52,
   "id": "097c5f0b",
   "metadata": {
    "execution": {
     "iopub.execute_input": "2022-08-25T21:13:15.347146Z",
     "iopub.status.busy": "2022-08-25T21:13:15.346053Z",
     "iopub.status.idle": "2022-08-25T21:13:15.355918Z",
     "shell.execute_reply": "2022-08-25T21:13:15.354980Z"
    },
    "papermill": {
     "duration": 0.047369,
     "end_time": "2022-08-25T21:13:15.358444",
     "exception": false,
     "start_time": "2022-08-25T21:13:15.311075",
     "status": "completed"
    },
    "tags": []
   },
   "outputs": [
    {
     "data": {
      "text/plain": [
       "0       NaN\n",
       "1       C85\n",
       "2       NaN\n",
       "3      C123\n",
       "4       NaN\n",
       "       ... \n",
       "886     NaN\n",
       "887     B42\n",
       "888     NaN\n",
       "889    C148\n",
       "890     NaN\n",
       "Name: Cabin, Length: 891, dtype: object"
      ]
     },
     "execution_count": 52,
     "metadata": {},
     "output_type": "execute_result"
    }
   ],
   "source": [
    "train_titanic.Cabin    # this was working in jupyter notebook as train_titanic.Cabin.info() here I removed info() because of error."
   ]
  },
  {
   "cell_type": "code",
   "execution_count": 53,
   "id": "60dd7813",
   "metadata": {
    "execution": {
     "iopub.execute_input": "2022-08-25T21:13:15.421491Z",
     "iopub.status.busy": "2022-08-25T21:13:15.420667Z",
     "iopub.status.idle": "2022-08-25T21:13:15.427421Z",
     "shell.execute_reply": "2022-08-25T21:13:15.426402Z"
    },
    "papermill": {
     "duration": 0.040998,
     "end_time": "2022-08-25T21:13:15.429929",
     "exception": false,
     "start_time": "2022-08-25T21:13:15.388931",
     "status": "completed"
    },
    "tags": []
   },
   "outputs": [],
   "source": [
    "# there is no use of cabin in predicting so better to drop.\n",
    "train_titanic.drop('Cabin', axis = 1, inplace = True)"
   ]
  },
  {
   "cell_type": "code",
   "execution_count": 54,
   "id": "8d84a73d",
   "metadata": {
    "execution": {
     "iopub.execute_input": "2022-08-25T21:13:15.493268Z",
     "iopub.status.busy": "2022-08-25T21:13:15.492149Z",
     "iopub.status.idle": "2022-08-25T21:13:15.500435Z",
     "shell.execute_reply": "2022-08-25T21:13:15.499500Z"
    },
    "papermill": {
     "duration": 0.042624,
     "end_time": "2022-08-25T21:13:15.502730",
     "exception": false,
     "start_time": "2022-08-25T21:13:15.460106",
     "status": "completed"
    },
    "tags": []
   },
   "outputs": [
    {
     "data": {
      "text/plain": [
       "array(['S', 'C', 'Q', nan], dtype=object)"
      ]
     },
     "execution_count": 54,
     "metadata": {},
     "output_type": "execute_result"
    }
   ],
   "source": [
    "train_titanic.Embarked.unique()        # unique class present in Embarked column"
   ]
  },
  {
   "cell_type": "code",
   "execution_count": 55,
   "id": "a8726936",
   "metadata": {
    "execution": {
     "iopub.execute_input": "2022-08-25T21:13:15.565429Z",
     "iopub.status.busy": "2022-08-25T21:13:15.564713Z",
     "iopub.status.idle": "2022-08-25T21:13:15.574664Z",
     "shell.execute_reply": "2022-08-25T21:13:15.573281Z"
    },
    "papermill": {
     "duration": 0.044241,
     "end_time": "2022-08-25T21:13:15.577025",
     "exception": false,
     "start_time": "2022-08-25T21:13:15.532784",
     "status": "completed"
    },
    "tags": []
   },
   "outputs": [
    {
     "data": {
      "text/plain": [
       "S    644\n",
       "C    168\n",
       "Q     77\n",
       "Name: Embarked, dtype: int64"
      ]
     },
     "execution_count": 55,
     "metadata": {},
     "output_type": "execute_result"
    }
   ],
   "source": [
    "train_titanic.Embarked.value_counts()          # value count of unique class in Embarked column"
   ]
  },
  {
   "cell_type": "code",
   "execution_count": 56,
   "id": "48c9a452",
   "metadata": {
    "execution": {
     "iopub.execute_input": "2022-08-25T21:13:15.642514Z",
     "iopub.status.busy": "2022-08-25T21:13:15.641241Z",
     "iopub.status.idle": "2022-08-25T21:13:15.651143Z",
     "shell.execute_reply": "2022-08-25T21:13:15.650035Z"
    },
    "papermill": {
     "duration": 0.04488,
     "end_time": "2022-08-25T21:13:15.653576",
     "exception": false,
     "start_time": "2022-08-25T21:13:15.608696",
     "status": "completed"
    },
    "tags": []
   },
   "outputs": [
    {
     "data": {
      "text/plain": [
       "0    S\n",
       "dtype: object"
      ]
     },
     "execution_count": 56,
     "metadata": {},
     "output_type": "execute_result"
    }
   ],
   "source": [
    "train_titanic.Embarked.mode()"
   ]
  },
  {
   "cell_type": "code",
   "execution_count": 57,
   "id": "099e0b85",
   "metadata": {
    "execution": {
     "iopub.execute_input": "2022-08-25T21:13:15.719279Z",
     "iopub.status.busy": "2022-08-25T21:13:15.718387Z",
     "iopub.status.idle": "2022-08-25T21:13:15.725208Z",
     "shell.execute_reply": "2022-08-25T21:13:15.724080Z"
    },
    "papermill": {
     "duration": 0.042567,
     "end_time": "2022-08-25T21:13:15.727933",
     "exception": false,
     "start_time": "2022-08-25T21:13:15.685366",
     "status": "completed"
    },
    "tags": []
   },
   "outputs": [],
   "source": [
    "train_titanic.Embarked.fillna('S', inplace=True)        # Filling 'S' in place of blank(nan)"
   ]
  },
  {
   "cell_type": "code",
   "execution_count": 58,
   "id": "fd358d7b",
   "metadata": {
    "execution": {
     "iopub.execute_input": "2022-08-25T21:13:15.795221Z",
     "iopub.status.busy": "2022-08-25T21:13:15.794644Z",
     "iopub.status.idle": "2022-08-25T21:13:15.802976Z",
     "shell.execute_reply": "2022-08-25T21:13:15.801923Z"
    },
    "papermill": {
     "duration": 0.045608,
     "end_time": "2022-08-25T21:13:15.805399",
     "exception": false,
     "start_time": "2022-08-25T21:13:15.759791",
     "status": "completed"
    },
    "tags": []
   },
   "outputs": [],
   "source": [
    "train_titanic.Embarked.replace(['S', 'C', 'Q'], [0, 1, 2], inplace = True)"
   ]
  },
  {
   "cell_type": "markdown",
   "id": "0639d91a",
   "metadata": {
    "papermill": {
     "duration": 0.033703,
     "end_time": "2022-08-25T21:13:15.873200",
     "exception": false,
     "start_time": "2022-08-25T21:13:15.839497",
     "status": "completed"
    },
    "tags": []
   },
   "source": [
    "## Final Train Data"
   ]
  },
  {
   "cell_type": "code",
   "execution_count": 59,
   "id": "b3c65da5",
   "metadata": {
    "execution": {
     "iopub.execute_input": "2022-08-25T21:13:15.943836Z",
     "iopub.status.busy": "2022-08-25T21:13:15.942670Z",
     "iopub.status.idle": "2022-08-25T21:13:15.960152Z",
     "shell.execute_reply": "2022-08-25T21:13:15.959306Z"
    },
    "papermill": {
     "duration": 0.055798,
     "end_time": "2022-08-25T21:13:15.962750",
     "exception": false,
     "start_time": "2022-08-25T21:13:15.906952",
     "status": "completed"
    },
    "tags": []
   },
   "outputs": [
    {
     "data": {
      "text/html": [
       "<div>\n",
       "<style scoped>\n",
       "    .dataframe tbody tr th:only-of-type {\n",
       "        vertical-align: middle;\n",
       "    }\n",
       "\n",
       "    .dataframe tbody tr th {\n",
       "        vertical-align: top;\n",
       "    }\n",
       "\n",
       "    .dataframe thead th {\n",
       "        text-align: right;\n",
       "    }\n",
       "</style>\n",
       "<table border=\"1\" class=\"dataframe\">\n",
       "  <thead>\n",
       "    <tr style=\"text-align: right;\">\n",
       "      <th></th>\n",
       "      <th>Survived</th>\n",
       "      <th>Pclass</th>\n",
       "      <th>Sex</th>\n",
       "      <th>Age</th>\n",
       "      <th>SibSp</th>\n",
       "      <th>Parch</th>\n",
       "      <th>Fare</th>\n",
       "      <th>Embarked</th>\n",
       "    </tr>\n",
       "  </thead>\n",
       "  <tbody>\n",
       "    <tr>\n",
       "      <th>0</th>\n",
       "      <td>0</td>\n",
       "      <td>3</td>\n",
       "      <td>1</td>\n",
       "      <td>22</td>\n",
       "      <td>1</td>\n",
       "      <td>0</td>\n",
       "      <td>7.2500</td>\n",
       "      <td>0</td>\n",
       "    </tr>\n",
       "    <tr>\n",
       "      <th>1</th>\n",
       "      <td>1</td>\n",
       "      <td>1</td>\n",
       "      <td>0</td>\n",
       "      <td>38</td>\n",
       "      <td>1</td>\n",
       "      <td>0</td>\n",
       "      <td>71.2833</td>\n",
       "      <td>1</td>\n",
       "    </tr>\n",
       "    <tr>\n",
       "      <th>2</th>\n",
       "      <td>1</td>\n",
       "      <td>3</td>\n",
       "      <td>0</td>\n",
       "      <td>26</td>\n",
       "      <td>0</td>\n",
       "      <td>0</td>\n",
       "      <td>7.9250</td>\n",
       "      <td>0</td>\n",
       "    </tr>\n",
       "    <tr>\n",
       "      <th>3</th>\n",
       "      <td>1</td>\n",
       "      <td>1</td>\n",
       "      <td>0</td>\n",
       "      <td>35</td>\n",
       "      <td>1</td>\n",
       "      <td>0</td>\n",
       "      <td>53.1000</td>\n",
       "      <td>0</td>\n",
       "    </tr>\n",
       "    <tr>\n",
       "      <th>4</th>\n",
       "      <td>0</td>\n",
       "      <td>3</td>\n",
       "      <td>1</td>\n",
       "      <td>35</td>\n",
       "      <td>0</td>\n",
       "      <td>0</td>\n",
       "      <td>8.0500</td>\n",
       "      <td>0</td>\n",
       "    </tr>\n",
       "    <tr>\n",
       "      <th>...</th>\n",
       "      <td>...</td>\n",
       "      <td>...</td>\n",
       "      <td>...</td>\n",
       "      <td>...</td>\n",
       "      <td>...</td>\n",
       "      <td>...</td>\n",
       "      <td>...</td>\n",
       "      <td>...</td>\n",
       "    </tr>\n",
       "    <tr>\n",
       "      <th>886</th>\n",
       "      <td>0</td>\n",
       "      <td>2</td>\n",
       "      <td>1</td>\n",
       "      <td>27</td>\n",
       "      <td>0</td>\n",
       "      <td>0</td>\n",
       "      <td>13.0000</td>\n",
       "      <td>0</td>\n",
       "    </tr>\n",
       "    <tr>\n",
       "      <th>887</th>\n",
       "      <td>1</td>\n",
       "      <td>1</td>\n",
       "      <td>0</td>\n",
       "      <td>19</td>\n",
       "      <td>0</td>\n",
       "      <td>0</td>\n",
       "      <td>30.0000</td>\n",
       "      <td>0</td>\n",
       "    </tr>\n",
       "    <tr>\n",
       "      <th>888</th>\n",
       "      <td>0</td>\n",
       "      <td>3</td>\n",
       "      <td>0</td>\n",
       "      <td>29</td>\n",
       "      <td>1</td>\n",
       "      <td>2</td>\n",
       "      <td>23.4500</td>\n",
       "      <td>0</td>\n",
       "    </tr>\n",
       "    <tr>\n",
       "      <th>889</th>\n",
       "      <td>1</td>\n",
       "      <td>1</td>\n",
       "      <td>1</td>\n",
       "      <td>26</td>\n",
       "      <td>0</td>\n",
       "      <td>0</td>\n",
       "      <td>30.0000</td>\n",
       "      <td>1</td>\n",
       "    </tr>\n",
       "    <tr>\n",
       "      <th>890</th>\n",
       "      <td>0</td>\n",
       "      <td>3</td>\n",
       "      <td>1</td>\n",
       "      <td>32</td>\n",
       "      <td>0</td>\n",
       "      <td>0</td>\n",
       "      <td>7.7500</td>\n",
       "      <td>2</td>\n",
       "    </tr>\n",
       "  </tbody>\n",
       "</table>\n",
       "<p>891 rows × 8 columns</p>\n",
       "</div>"
      ],
      "text/plain": [
       "     Survived  Pclass  Sex  Age  SibSp  Parch     Fare  Embarked\n",
       "0           0       3    1   22      1      0   7.2500         0\n",
       "1           1       1    0   38      1      0  71.2833         1\n",
       "2           1       3    0   26      0      0   7.9250         0\n",
       "3           1       1    0   35      1      0  53.1000         0\n",
       "4           0       3    1   35      0      0   8.0500         0\n",
       "..        ...     ...  ...  ...    ...    ...      ...       ...\n",
       "886         0       2    1   27      0      0  13.0000         0\n",
       "887         1       1    0   19      0      0  30.0000         0\n",
       "888         0       3    0   29      1      2  23.4500         0\n",
       "889         1       1    1   26      0      0  30.0000         1\n",
       "890         0       3    1   32      0      0   7.7500         2\n",
       "\n",
       "[891 rows x 8 columns]"
      ]
     },
     "execution_count": 59,
     "metadata": {},
     "output_type": "execute_result"
    }
   ],
   "source": [
    "train_titanic"
   ]
  },
  {
   "cell_type": "code",
   "execution_count": 60,
   "id": "c23e1f02",
   "metadata": {
    "execution": {
     "iopub.execute_input": "2022-08-25T21:13:16.035115Z",
     "iopub.status.busy": "2022-08-25T21:13:16.034230Z",
     "iopub.status.idle": "2022-08-25T21:13:16.050546Z",
     "shell.execute_reply": "2022-08-25T21:13:16.048457Z"
    },
    "papermill": {
     "duration": 0.056543,
     "end_time": "2022-08-25T21:13:16.054046",
     "exception": false,
     "start_time": "2022-08-25T21:13:15.997503",
     "status": "completed"
    },
    "tags": []
   },
   "outputs": [
    {
     "name": "stdout",
     "output_type": "stream",
     "text": [
      "<class 'pandas.core.frame.DataFrame'>\n",
      "RangeIndex: 891 entries, 0 to 890\n",
      "Data columns (total 8 columns):\n",
      " #   Column    Non-Null Count  Dtype  \n",
      "---  ------    --------------  -----  \n",
      " 0   Survived  891 non-null    int64  \n",
      " 1   Pclass    891 non-null    int64  \n",
      " 2   Sex       891 non-null    int64  \n",
      " 3   Age       891 non-null    int64  \n",
      " 4   SibSp     891 non-null    int64  \n",
      " 5   Parch     891 non-null    int64  \n",
      " 6   Fare      891 non-null    float64\n",
      " 7   Embarked  891 non-null    int64  \n",
      "dtypes: float64(1), int64(7)\n",
      "memory usage: 55.8 KB\n"
     ]
    }
   ],
   "source": [
    "train_titanic.info()"
   ]
  },
  {
   "cell_type": "code",
   "execution_count": 61,
   "id": "5f192d1b",
   "metadata": {
    "execution": {
     "iopub.execute_input": "2022-08-25T21:13:16.117151Z",
     "iopub.status.busy": "2022-08-25T21:13:16.116672Z",
     "iopub.status.idle": "2022-08-25T21:13:16.143794Z",
     "shell.execute_reply": "2022-08-25T21:13:16.142816Z"
    },
    "papermill": {
     "duration": 0.061525,
     "end_time": "2022-08-25T21:13:16.146335",
     "exception": false,
     "start_time": "2022-08-25T21:13:16.084810",
     "status": "completed"
    },
    "tags": []
   },
   "outputs": [
    {
     "data": {
      "text/html": [
       "<div>\n",
       "<style scoped>\n",
       "    .dataframe tbody tr th:only-of-type {\n",
       "        vertical-align: middle;\n",
       "    }\n",
       "\n",
       "    .dataframe tbody tr th {\n",
       "        vertical-align: top;\n",
       "    }\n",
       "\n",
       "    .dataframe thead th {\n",
       "        text-align: right;\n",
       "    }\n",
       "</style>\n",
       "<table border=\"1\" class=\"dataframe\">\n",
       "  <thead>\n",
       "    <tr style=\"text-align: right;\">\n",
       "      <th></th>\n",
       "      <th>PassengerId</th>\n",
       "      <th>Pclass</th>\n",
       "      <th>Name</th>\n",
       "      <th>Sex</th>\n",
       "      <th>Age</th>\n",
       "      <th>SibSp</th>\n",
       "      <th>Parch</th>\n",
       "      <th>Ticket</th>\n",
       "      <th>Fare</th>\n",
       "      <th>Cabin</th>\n",
       "      <th>Embarked</th>\n",
       "    </tr>\n",
       "  </thead>\n",
       "  <tbody>\n",
       "    <tr>\n",
       "      <th>0</th>\n",
       "      <td>892</td>\n",
       "      <td>3</td>\n",
       "      <td>Kelly, Mr. James</td>\n",
       "      <td>male</td>\n",
       "      <td>34.5</td>\n",
       "      <td>0</td>\n",
       "      <td>0</td>\n",
       "      <td>330911</td>\n",
       "      <td>7.8292</td>\n",
       "      <td>NaN</td>\n",
       "      <td>Q</td>\n",
       "    </tr>\n",
       "    <tr>\n",
       "      <th>1</th>\n",
       "      <td>893</td>\n",
       "      <td>3</td>\n",
       "      <td>Wilkes, Mrs. James (Ellen Needs)</td>\n",
       "      <td>female</td>\n",
       "      <td>47.0</td>\n",
       "      <td>1</td>\n",
       "      <td>0</td>\n",
       "      <td>363272</td>\n",
       "      <td>7.0000</td>\n",
       "      <td>NaN</td>\n",
       "      <td>S</td>\n",
       "    </tr>\n",
       "    <tr>\n",
       "      <th>2</th>\n",
       "      <td>894</td>\n",
       "      <td>2</td>\n",
       "      <td>Myles, Mr. Thomas Francis</td>\n",
       "      <td>male</td>\n",
       "      <td>62.0</td>\n",
       "      <td>0</td>\n",
       "      <td>0</td>\n",
       "      <td>240276</td>\n",
       "      <td>9.6875</td>\n",
       "      <td>NaN</td>\n",
       "      <td>Q</td>\n",
       "    </tr>\n",
       "    <tr>\n",
       "      <th>3</th>\n",
       "      <td>895</td>\n",
       "      <td>3</td>\n",
       "      <td>Wirz, Mr. Albert</td>\n",
       "      <td>male</td>\n",
       "      <td>27.0</td>\n",
       "      <td>0</td>\n",
       "      <td>0</td>\n",
       "      <td>315154</td>\n",
       "      <td>8.6625</td>\n",
       "      <td>NaN</td>\n",
       "      <td>S</td>\n",
       "    </tr>\n",
       "    <tr>\n",
       "      <th>4</th>\n",
       "      <td>896</td>\n",
       "      <td>3</td>\n",
       "      <td>Hirvonen, Mrs. Alexander (Helga E Lindqvist)</td>\n",
       "      <td>female</td>\n",
       "      <td>22.0</td>\n",
       "      <td>1</td>\n",
       "      <td>1</td>\n",
       "      <td>3101298</td>\n",
       "      <td>12.2875</td>\n",
       "      <td>NaN</td>\n",
       "      <td>S</td>\n",
       "    </tr>\n",
       "    <tr>\n",
       "      <th>...</th>\n",
       "      <td>...</td>\n",
       "      <td>...</td>\n",
       "      <td>...</td>\n",
       "      <td>...</td>\n",
       "      <td>...</td>\n",
       "      <td>...</td>\n",
       "      <td>...</td>\n",
       "      <td>...</td>\n",
       "      <td>...</td>\n",
       "      <td>...</td>\n",
       "      <td>...</td>\n",
       "    </tr>\n",
       "    <tr>\n",
       "      <th>413</th>\n",
       "      <td>1305</td>\n",
       "      <td>3</td>\n",
       "      <td>Spector, Mr. Woolf</td>\n",
       "      <td>male</td>\n",
       "      <td>NaN</td>\n",
       "      <td>0</td>\n",
       "      <td>0</td>\n",
       "      <td>A.5. 3236</td>\n",
       "      <td>8.0500</td>\n",
       "      <td>NaN</td>\n",
       "      <td>S</td>\n",
       "    </tr>\n",
       "    <tr>\n",
       "      <th>414</th>\n",
       "      <td>1306</td>\n",
       "      <td>1</td>\n",
       "      <td>Oliva y Ocana, Dona. Fermina</td>\n",
       "      <td>female</td>\n",
       "      <td>39.0</td>\n",
       "      <td>0</td>\n",
       "      <td>0</td>\n",
       "      <td>PC 17758</td>\n",
       "      <td>108.9000</td>\n",
       "      <td>C105</td>\n",
       "      <td>C</td>\n",
       "    </tr>\n",
       "    <tr>\n",
       "      <th>415</th>\n",
       "      <td>1307</td>\n",
       "      <td>3</td>\n",
       "      <td>Saether, Mr. Simon Sivertsen</td>\n",
       "      <td>male</td>\n",
       "      <td>38.5</td>\n",
       "      <td>0</td>\n",
       "      <td>0</td>\n",
       "      <td>SOTON/O.Q. 3101262</td>\n",
       "      <td>7.2500</td>\n",
       "      <td>NaN</td>\n",
       "      <td>S</td>\n",
       "    </tr>\n",
       "    <tr>\n",
       "      <th>416</th>\n",
       "      <td>1308</td>\n",
       "      <td>3</td>\n",
       "      <td>Ware, Mr. Frederick</td>\n",
       "      <td>male</td>\n",
       "      <td>NaN</td>\n",
       "      <td>0</td>\n",
       "      <td>0</td>\n",
       "      <td>359309</td>\n",
       "      <td>8.0500</td>\n",
       "      <td>NaN</td>\n",
       "      <td>S</td>\n",
       "    </tr>\n",
       "    <tr>\n",
       "      <th>417</th>\n",
       "      <td>1309</td>\n",
       "      <td>3</td>\n",
       "      <td>Peter, Master. Michael J</td>\n",
       "      <td>male</td>\n",
       "      <td>NaN</td>\n",
       "      <td>1</td>\n",
       "      <td>1</td>\n",
       "      <td>2668</td>\n",
       "      <td>22.3583</td>\n",
       "      <td>NaN</td>\n",
       "      <td>C</td>\n",
       "    </tr>\n",
       "  </tbody>\n",
       "</table>\n",
       "<p>418 rows × 11 columns</p>\n",
       "</div>"
      ],
      "text/plain": [
       "     PassengerId  Pclass                                          Name  \\\n",
       "0            892       3                              Kelly, Mr. James   \n",
       "1            893       3              Wilkes, Mrs. James (Ellen Needs)   \n",
       "2            894       2                     Myles, Mr. Thomas Francis   \n",
       "3            895       3                              Wirz, Mr. Albert   \n",
       "4            896       3  Hirvonen, Mrs. Alexander (Helga E Lindqvist)   \n",
       "..           ...     ...                                           ...   \n",
       "413         1305       3                            Spector, Mr. Woolf   \n",
       "414         1306       1                  Oliva y Ocana, Dona. Fermina   \n",
       "415         1307       3                  Saether, Mr. Simon Sivertsen   \n",
       "416         1308       3                           Ware, Mr. Frederick   \n",
       "417         1309       3                      Peter, Master. Michael J   \n",
       "\n",
       "        Sex   Age  SibSp  Parch              Ticket      Fare Cabin Embarked  \n",
       "0      male  34.5      0      0              330911    7.8292   NaN        Q  \n",
       "1    female  47.0      1      0              363272    7.0000   NaN        S  \n",
       "2      male  62.0      0      0              240276    9.6875   NaN        Q  \n",
       "3      male  27.0      0      0              315154    8.6625   NaN        S  \n",
       "4    female  22.0      1      1             3101298   12.2875   NaN        S  \n",
       "..      ...   ...    ...    ...                 ...       ...   ...      ...  \n",
       "413    male   NaN      0      0           A.5. 3236    8.0500   NaN        S  \n",
       "414  female  39.0      0      0            PC 17758  108.9000  C105        C  \n",
       "415    male  38.5      0      0  SOTON/O.Q. 3101262    7.2500   NaN        S  \n",
       "416    male   NaN      0      0              359309    8.0500   NaN        S  \n",
       "417    male   NaN      1      1                2668   22.3583   NaN        C  \n",
       "\n",
       "[418 rows x 11 columns]"
      ]
     },
     "execution_count": 61,
     "metadata": {},
     "output_type": "execute_result"
    }
   ],
   "source": [
    "test_titanic"
   ]
  },
  {
   "cell_type": "code",
   "execution_count": 62,
   "id": "051d35f3",
   "metadata": {
    "execution": {
     "iopub.execute_input": "2022-08-25T21:13:16.217788Z",
     "iopub.status.busy": "2022-08-25T21:13:16.216403Z",
     "iopub.status.idle": "2022-08-25T21:13:16.231374Z",
     "shell.execute_reply": "2022-08-25T21:13:16.229804Z"
    },
    "papermill": {
     "duration": 0.053901,
     "end_time": "2022-08-25T21:13:16.234509",
     "exception": false,
     "start_time": "2022-08-25T21:13:16.180608",
     "status": "completed"
    },
    "scrolled": true,
    "tags": []
   },
   "outputs": [
    {
     "name": "stdout",
     "output_type": "stream",
     "text": [
      "<class 'pandas.core.frame.DataFrame'>\n",
      "RangeIndex: 418 entries, 0 to 417\n",
      "Data columns (total 11 columns):\n",
      " #   Column       Non-Null Count  Dtype  \n",
      "---  ------       --------------  -----  \n",
      " 0   PassengerId  418 non-null    int64  \n",
      " 1   Pclass       418 non-null    int64  \n",
      " 2   Name         418 non-null    object \n",
      " 3   Sex          418 non-null    object \n",
      " 4   Age          332 non-null    float64\n",
      " 5   SibSp        418 non-null    int64  \n",
      " 6   Parch        418 non-null    int64  \n",
      " 7   Ticket       418 non-null    object \n",
      " 8   Fare         417 non-null    float64\n",
      " 9   Cabin        91 non-null     object \n",
      " 10  Embarked     418 non-null    object \n",
      "dtypes: float64(2), int64(4), object(5)\n",
      "memory usage: 36.0+ KB\n"
     ]
    }
   ],
   "source": [
    "test_titanic.info()"
   ]
  },
  {
   "cell_type": "code",
   "execution_count": 63,
   "id": "a300c82e",
   "metadata": {
    "execution": {
     "iopub.execute_input": "2022-08-25T21:13:16.304792Z",
     "iopub.status.busy": "2022-08-25T21:13:16.304247Z",
     "iopub.status.idle": "2022-08-25T21:13:16.310967Z",
     "shell.execute_reply": "2022-08-25T21:13:16.309534Z"
    },
    "papermill": {
     "duration": 0.045169,
     "end_time": "2022-08-25T21:13:16.313358",
     "exception": false,
     "start_time": "2022-08-25T21:13:16.268189",
     "status": "completed"
    },
    "tags": []
   },
   "outputs": [],
   "source": [
    "PassengerId = test_titanic.PassengerId         # initialize PassengerId for upcoming use"
   ]
  },
  {
   "cell_type": "code",
   "execution_count": 64,
   "id": "29abb3b2",
   "metadata": {
    "execution": {
     "iopub.execute_input": "2022-08-25T21:13:16.381437Z",
     "iopub.status.busy": "2022-08-25T21:13:16.380741Z",
     "iopub.status.idle": "2022-08-25T21:13:16.387819Z",
     "shell.execute_reply": "2022-08-25T21:13:16.386771Z"
    },
    "papermill": {
     "duration": 0.044305,
     "end_time": "2022-08-25T21:13:16.390415",
     "exception": false,
     "start_time": "2022-08-25T21:13:16.346110",
     "status": "completed"
    },
    "tags": []
   },
   "outputs": [],
   "source": [
    "test_titanic.drop(['PassengerId', 'Name', 'Ticket', 'Cabin'], inplace = True, axis = 1)"
   ]
  },
  {
   "cell_type": "code",
   "execution_count": 65,
   "id": "9d40a823",
   "metadata": {
    "execution": {
     "iopub.execute_input": "2022-08-25T21:13:16.460938Z",
     "iopub.status.busy": "2022-08-25T21:13:16.459359Z",
     "iopub.status.idle": "2022-08-25T21:13:16.474249Z",
     "shell.execute_reply": "2022-08-25T21:13:16.472814Z"
    },
    "papermill": {
     "duration": 0.053385,
     "end_time": "2022-08-25T21:13:16.477132",
     "exception": false,
     "start_time": "2022-08-25T21:13:16.423747",
     "status": "completed"
    },
    "tags": []
   },
   "outputs": [
    {
     "data": {
      "text/html": [
       "<div>\n",
       "<style scoped>\n",
       "    .dataframe tbody tr th:only-of-type {\n",
       "        vertical-align: middle;\n",
       "    }\n",
       "\n",
       "    .dataframe tbody tr th {\n",
       "        vertical-align: top;\n",
       "    }\n",
       "\n",
       "    .dataframe thead th {\n",
       "        text-align: right;\n",
       "    }\n",
       "</style>\n",
       "<table border=\"1\" class=\"dataframe\">\n",
       "  <thead>\n",
       "    <tr style=\"text-align: right;\">\n",
       "      <th></th>\n",
       "      <th>Pclass</th>\n",
       "      <th>Sex</th>\n",
       "      <th>Age</th>\n",
       "      <th>SibSp</th>\n",
       "      <th>Parch</th>\n",
       "      <th>Fare</th>\n",
       "      <th>Embarked</th>\n",
       "    </tr>\n",
       "  </thead>\n",
       "  <tbody>\n",
       "    <tr>\n",
       "      <th>0</th>\n",
       "      <td>3</td>\n",
       "      <td>male</td>\n",
       "      <td>34.5</td>\n",
       "      <td>0</td>\n",
       "      <td>0</td>\n",
       "      <td>7.8292</td>\n",
       "      <td>Q</td>\n",
       "    </tr>\n",
       "    <tr>\n",
       "      <th>1</th>\n",
       "      <td>3</td>\n",
       "      <td>female</td>\n",
       "      <td>47.0</td>\n",
       "      <td>1</td>\n",
       "      <td>0</td>\n",
       "      <td>7.0000</td>\n",
       "      <td>S</td>\n",
       "    </tr>\n",
       "    <tr>\n",
       "      <th>2</th>\n",
       "      <td>2</td>\n",
       "      <td>male</td>\n",
       "      <td>62.0</td>\n",
       "      <td>0</td>\n",
       "      <td>0</td>\n",
       "      <td>9.6875</td>\n",
       "      <td>Q</td>\n",
       "    </tr>\n",
       "    <tr>\n",
       "      <th>3</th>\n",
       "      <td>3</td>\n",
       "      <td>male</td>\n",
       "      <td>27.0</td>\n",
       "      <td>0</td>\n",
       "      <td>0</td>\n",
       "      <td>8.6625</td>\n",
       "      <td>S</td>\n",
       "    </tr>\n",
       "    <tr>\n",
       "      <th>4</th>\n",
       "      <td>3</td>\n",
       "      <td>female</td>\n",
       "      <td>22.0</td>\n",
       "      <td>1</td>\n",
       "      <td>1</td>\n",
       "      <td>12.2875</td>\n",
       "      <td>S</td>\n",
       "    </tr>\n",
       "  </tbody>\n",
       "</table>\n",
       "</div>"
      ],
      "text/plain": [
       "   Pclass     Sex   Age  SibSp  Parch     Fare Embarked\n",
       "0       3    male  34.5      0      0   7.8292        Q\n",
       "1       3  female  47.0      1      0   7.0000        S\n",
       "2       2    male  62.0      0      0   9.6875        Q\n",
       "3       3    male  27.0      0      0   8.6625        S\n",
       "4       3  female  22.0      1      1  12.2875        S"
      ]
     },
     "execution_count": 65,
     "metadata": {},
     "output_type": "execute_result"
    }
   ],
   "source": [
    "test_titanic.head()"
   ]
  },
  {
   "cell_type": "markdown",
   "id": "1b328b5c",
   "metadata": {
    "papermill": {
     "duration": 0.033964,
     "end_time": "2022-08-25T21:13:16.546291",
     "exception": false,
     "start_time": "2022-08-25T21:13:16.512327",
     "status": "completed"
    },
    "tags": []
   },
   "source": [
    "### Doing same cleaning and manipulation of data as Train dataset"
   ]
  },
  {
   "cell_type": "code",
   "execution_count": 66,
   "id": "0785194d",
   "metadata": {
    "execution": {
     "iopub.execute_input": "2022-08-25T21:13:16.644757Z",
     "iopub.status.busy": "2022-08-25T21:13:16.644204Z",
     "iopub.status.idle": "2022-08-25T21:13:16.653300Z",
     "shell.execute_reply": "2022-08-25T21:13:16.652022Z"
    },
    "papermill": {
     "duration": 0.073087,
     "end_time": "2022-08-25T21:13:16.656175",
     "exception": false,
     "start_time": "2022-08-25T21:13:16.583088",
     "status": "completed"
    },
    "tags": []
   },
   "outputs": [
    {
     "data": {
      "text/plain": [
       "array([3, 2, 1])"
      ]
     },
     "execution_count": 66,
     "metadata": {},
     "output_type": "execute_result"
    }
   ],
   "source": [
    "test_titanic.Pclass.unique()"
   ]
  },
  {
   "cell_type": "code",
   "execution_count": 67,
   "id": "a843cf3b",
   "metadata": {
    "execution": {
     "iopub.execute_input": "2022-08-25T21:13:16.724275Z",
     "iopub.status.busy": "2022-08-25T21:13:16.722544Z",
     "iopub.status.idle": "2022-08-25T21:13:16.733144Z",
     "shell.execute_reply": "2022-08-25T21:13:16.732191Z"
    },
    "papermill": {
     "duration": 0.048466,
     "end_time": "2022-08-25T21:13:16.736311",
     "exception": false,
     "start_time": "2022-08-25T21:13:16.687845",
     "status": "completed"
    },
    "tags": []
   },
   "outputs": [
    {
     "data": {
      "text/plain": [
       "3    218\n",
       "1    107\n",
       "2     93\n",
       "Name: Pclass, dtype: int64"
      ]
     },
     "execution_count": 67,
     "metadata": {},
     "output_type": "execute_result"
    }
   ],
   "source": [
    "test_titanic.Pclass.value_counts()"
   ]
  },
  {
   "cell_type": "code",
   "execution_count": 68,
   "id": "018e8540",
   "metadata": {
    "execution": {
     "iopub.execute_input": "2022-08-25T21:13:16.805872Z",
     "iopub.status.busy": "2022-08-25T21:13:16.804203Z",
     "iopub.status.idle": "2022-08-25T21:13:16.812512Z",
     "shell.execute_reply": "2022-08-25T21:13:16.811578Z"
    },
    "papermill": {
     "duration": 0.045123,
     "end_time": "2022-08-25T21:13:16.814783",
     "exception": false,
     "start_time": "2022-08-25T21:13:16.769660",
     "status": "completed"
    },
    "tags": []
   },
   "outputs": [
    {
     "data": {
      "text/plain": [
       "array(['male', 'female'], dtype=object)"
      ]
     },
     "execution_count": 68,
     "metadata": {},
     "output_type": "execute_result"
    }
   ],
   "source": [
    "test_titanic.Sex.unique()"
   ]
  },
  {
   "cell_type": "code",
   "execution_count": 69,
   "id": "490f7752",
   "metadata": {
    "execution": {
     "iopub.execute_input": "2022-08-25T21:13:16.883609Z",
     "iopub.status.busy": "2022-08-25T21:13:16.882710Z",
     "iopub.status.idle": "2022-08-25T21:13:16.889450Z",
     "shell.execute_reply": "2022-08-25T21:13:16.888567Z"
    },
    "papermill": {
     "duration": 0.044185,
     "end_time": "2022-08-25T21:13:16.892016",
     "exception": false,
     "start_time": "2022-08-25T21:13:16.847831",
     "status": "completed"
    },
    "tags": []
   },
   "outputs": [],
   "source": [
    "test_titanic.Sex.replace(['male', 'female'], [1,0], inplace = True)"
   ]
  },
  {
   "cell_type": "code",
   "execution_count": 70,
   "id": "38d8b813",
   "metadata": {
    "execution": {
     "iopub.execute_input": "2022-08-25T21:13:16.960535Z",
     "iopub.status.busy": "2022-08-25T21:13:16.959775Z",
     "iopub.status.idle": "2022-08-25T21:13:16.967209Z",
     "shell.execute_reply": "2022-08-25T21:13:16.966047Z"
    },
    "papermill": {
     "duration": 0.045206,
     "end_time": "2022-08-25T21:13:16.969579",
     "exception": false,
     "start_time": "2022-08-25T21:13:16.924373",
     "status": "completed"
    },
    "tags": []
   },
   "outputs": [
    {
     "data": {
      "text/plain": [
       "30.272590361445783"
      ]
     },
     "execution_count": 70,
     "metadata": {},
     "output_type": "execute_result"
    }
   ],
   "source": [
    "test_titanic.Age.mean()"
   ]
  },
  {
   "cell_type": "code",
   "execution_count": 71,
   "id": "3db1e65e",
   "metadata": {
    "execution": {
     "iopub.execute_input": "2022-08-25T21:13:17.039907Z",
     "iopub.status.busy": "2022-08-25T21:13:17.039077Z",
     "iopub.status.idle": "2022-08-25T21:13:17.046182Z",
     "shell.execute_reply": "2022-08-25T21:13:17.044701Z"
    },
    "papermill": {
     "duration": 0.046136,
     "end_time": "2022-08-25T21:13:17.048842",
     "exception": false,
     "start_time": "2022-08-25T21:13:17.002706",
     "status": "completed"
    },
    "tags": []
   },
   "outputs": [],
   "source": [
    "test_titanic.Age.fillna(test_titanic.Age.mean(), inplace = True)"
   ]
  },
  {
   "cell_type": "code",
   "execution_count": 72,
   "id": "c3a57055",
   "metadata": {
    "execution": {
     "iopub.execute_input": "2022-08-25T21:13:17.119145Z",
     "iopub.status.busy": "2022-08-25T21:13:17.117750Z",
     "iopub.status.idle": "2022-08-25T21:13:17.126032Z",
     "shell.execute_reply": "2022-08-25T21:13:17.124861Z"
    },
    "papermill": {
     "duration": 0.044739,
     "end_time": "2022-08-25T21:13:17.128367",
     "exception": false,
     "start_time": "2022-08-25T21:13:17.083628",
     "status": "completed"
    },
    "tags": []
   },
   "outputs": [
    {
     "data": {
      "text/plain": [
       "dtype('float64')"
      ]
     },
     "execution_count": 72,
     "metadata": {},
     "output_type": "execute_result"
    }
   ],
   "source": [
    "test_titanic.Age.dtype"
   ]
  },
  {
   "cell_type": "code",
   "execution_count": 73,
   "id": "55f7a391",
   "metadata": {
    "execution": {
     "iopub.execute_input": "2022-08-25T21:13:17.199101Z",
     "iopub.status.busy": "2022-08-25T21:13:17.198055Z",
     "iopub.status.idle": "2022-08-25T21:13:17.203657Z",
     "shell.execute_reply": "2022-08-25T21:13:17.202810Z"
    },
    "papermill": {
     "duration": 0.043141,
     "end_time": "2022-08-25T21:13:17.205980",
     "exception": false,
     "start_time": "2022-08-25T21:13:17.162839",
     "status": "completed"
    },
    "tags": []
   },
   "outputs": [],
   "source": [
    "test_titanic.Age = test_titanic.Age.astype('int64')"
   ]
  },
  {
   "cell_type": "code",
   "execution_count": 74,
   "id": "442adde4",
   "metadata": {
    "execution": {
     "iopub.execute_input": "2022-08-25T21:13:17.276339Z",
     "iopub.status.busy": "2022-08-25T21:13:17.275015Z",
     "iopub.status.idle": "2022-08-25T21:13:17.283443Z",
     "shell.execute_reply": "2022-08-25T21:13:17.282508Z"
    },
    "papermill": {
     "duration": 0.044517,
     "end_time": "2022-08-25T21:13:17.285623",
     "exception": false,
     "start_time": "2022-08-25T21:13:17.241106",
     "status": "completed"
    },
    "tags": []
   },
   "outputs": [
    {
     "data": {
      "text/plain": [
       "dtype('int64')"
      ]
     },
     "execution_count": 74,
     "metadata": {},
     "output_type": "execute_result"
    }
   ],
   "source": [
    "test_titanic.Age.dtype"
   ]
  },
  {
   "cell_type": "code",
   "execution_count": 75,
   "id": "e8b1d350",
   "metadata": {
    "execution": {
     "iopub.execute_input": "2022-08-25T21:13:17.353893Z",
     "iopub.status.busy": "2022-08-25T21:13:17.353078Z",
     "iopub.status.idle": "2022-08-25T21:13:17.369249Z",
     "shell.execute_reply": "2022-08-25T21:13:17.367345Z"
    },
    "papermill": {
     "duration": 0.053842,
     "end_time": "2022-08-25T21:13:17.371929",
     "exception": false,
     "start_time": "2022-08-25T21:13:17.318087",
     "status": "completed"
    },
    "tags": []
   },
   "outputs": [
    {
     "data": {
      "text/html": [
       "<div>\n",
       "<style scoped>\n",
       "    .dataframe tbody tr th:only-of-type {\n",
       "        vertical-align: middle;\n",
       "    }\n",
       "\n",
       "    .dataframe tbody tr th {\n",
       "        vertical-align: top;\n",
       "    }\n",
       "\n",
       "    .dataframe thead th {\n",
       "        text-align: right;\n",
       "    }\n",
       "</style>\n",
       "<table border=\"1\" class=\"dataframe\">\n",
       "  <thead>\n",
       "    <tr style=\"text-align: right;\">\n",
       "      <th></th>\n",
       "      <th>Pclass</th>\n",
       "      <th>Sex</th>\n",
       "      <th>Age</th>\n",
       "      <th>SibSp</th>\n",
       "      <th>Parch</th>\n",
       "      <th>Fare</th>\n",
       "      <th>Embarked</th>\n",
       "    </tr>\n",
       "  </thead>\n",
       "  <tbody>\n",
       "    <tr>\n",
       "      <th>201</th>\n",
       "      <td>3</td>\n",
       "      <td>1</td>\n",
       "      <td>0</td>\n",
       "      <td>0</td>\n",
       "      <td>2</td>\n",
       "      <td>14.400</td>\n",
       "      <td>S</td>\n",
       "    </tr>\n",
       "    <tr>\n",
       "      <th>250</th>\n",
       "      <td>2</td>\n",
       "      <td>0</td>\n",
       "      <td>0</td>\n",
       "      <td>1</td>\n",
       "      <td>2</td>\n",
       "      <td>27.750</td>\n",
       "      <td>S</td>\n",
       "    </tr>\n",
       "    <tr>\n",
       "      <th>281</th>\n",
       "      <td>3</td>\n",
       "      <td>1</td>\n",
       "      <td>0</td>\n",
       "      <td>1</td>\n",
       "      <td>1</td>\n",
       "      <td>13.775</td>\n",
       "      <td>S</td>\n",
       "    </tr>\n",
       "    <tr>\n",
       "      <th>307</th>\n",
       "      <td>3</td>\n",
       "      <td>1</td>\n",
       "      <td>0</td>\n",
       "      <td>0</td>\n",
       "      <td>1</td>\n",
       "      <td>9.350</td>\n",
       "      <td>S</td>\n",
       "    </tr>\n",
       "    <tr>\n",
       "      <th>354</th>\n",
       "      <td>3</td>\n",
       "      <td>0</td>\n",
       "      <td>0</td>\n",
       "      <td>1</td>\n",
       "      <td>2</td>\n",
       "      <td>20.575</td>\n",
       "      <td>S</td>\n",
       "    </tr>\n",
       "  </tbody>\n",
       "</table>\n",
       "</div>"
      ],
      "text/plain": [
       "     Pclass  Sex  Age  SibSp  Parch    Fare Embarked\n",
       "201       3    1    0      0      2  14.400        S\n",
       "250       2    0    0      1      2  27.750        S\n",
       "281       3    1    0      1      1  13.775        S\n",
       "307       3    1    0      0      1   9.350        S\n",
       "354       3    0    0      1      2  20.575        S"
      ]
     },
     "execution_count": 75,
     "metadata": {},
     "output_type": "execute_result"
    }
   ],
   "source": [
    "test_titanic[test_titanic.Age == 0]"
   ]
  },
  {
   "cell_type": "code",
   "execution_count": 76,
   "id": "47a6d411",
   "metadata": {
    "execution": {
     "iopub.execute_input": "2022-08-25T21:13:17.445124Z",
     "iopub.status.busy": "2022-08-25T21:13:17.444395Z",
     "iopub.status.idle": "2022-08-25T21:13:17.450152Z",
     "shell.execute_reply": "2022-08-25T21:13:17.449317Z"
    },
    "papermill": {
     "duration": 0.046217,
     "end_time": "2022-08-25T21:13:17.452833",
     "exception": false,
     "start_time": "2022-08-25T21:13:17.406616",
     "status": "completed"
    },
    "tags": []
   },
   "outputs": [],
   "source": [
    "test_titanic.Age.replace(0, int(test_titanic.Age.mean()), inplace = True)"
   ]
  },
  {
   "cell_type": "code",
   "execution_count": 77,
   "id": "96efbe5f",
   "metadata": {
    "execution": {
     "iopub.execute_input": "2022-08-25T21:13:17.526527Z",
     "iopub.status.busy": "2022-08-25T21:13:17.525687Z",
     "iopub.status.idle": "2022-08-25T21:13:17.533373Z",
     "shell.execute_reply": "2022-08-25T21:13:17.532536Z"
    },
    "papermill": {
     "duration": 0.047761,
     "end_time": "2022-08-25T21:13:17.535748",
     "exception": false,
     "start_time": "2022-08-25T21:13:17.487987",
     "status": "completed"
    },
    "tags": []
   },
   "outputs": [
    {
     "data": {
      "text/plain": [
       "76"
      ]
     },
     "execution_count": 77,
     "metadata": {},
     "output_type": "execute_result"
    }
   ],
   "source": [
    "test_titanic.Age.max()"
   ]
  },
  {
   "cell_type": "code",
   "execution_count": 78,
   "id": "0d395842",
   "metadata": {
    "execution": {
     "iopub.execute_input": "2022-08-25T21:13:17.607067Z",
     "iopub.status.busy": "2022-08-25T21:13:17.606439Z",
     "iopub.status.idle": "2022-08-25T21:13:17.616629Z",
     "shell.execute_reply": "2022-08-25T21:13:17.615214Z"
    },
    "papermill": {
     "duration": 0.048511,
     "end_time": "2022-08-25T21:13:17.619427",
     "exception": false,
     "start_time": "2022-08-25T21:13:17.570916",
     "status": "completed"
    },
    "tags": []
   },
   "outputs": [
    {
     "data": {
      "text/plain": [
       "0    283\n",
       "1    110\n",
       "2     14\n",
       "3      4\n",
       "4      4\n",
       "8      2\n",
       "5      1\n",
       "Name: SibSp, dtype: int64"
      ]
     },
     "execution_count": 78,
     "metadata": {},
     "output_type": "execute_result"
    }
   ],
   "source": [
    "test_titanic.SibSp.value_counts()"
   ]
  },
  {
   "cell_type": "code",
   "execution_count": 79,
   "id": "56c3d9c7",
   "metadata": {
    "execution": {
     "iopub.execute_input": "2022-08-25T21:13:17.689614Z",
     "iopub.status.busy": "2022-08-25T21:13:17.688193Z",
     "iopub.status.idle": "2022-08-25T21:13:17.696020Z",
     "shell.execute_reply": "2022-08-25T21:13:17.695071Z"
    },
    "papermill": {
     "duration": 0.044525,
     "end_time": "2022-08-25T21:13:17.698119",
     "exception": false,
     "start_time": "2022-08-25T21:13:17.653594",
     "status": "completed"
    },
    "tags": []
   },
   "outputs": [
    {
     "data": {
      "text/plain": [
       "array([0, 1, 2, 3, 4, 5, 8])"
      ]
     },
     "execution_count": 79,
     "metadata": {},
     "output_type": "execute_result"
    }
   ],
   "source": [
    "test_titanic.SibSp.unique()"
   ]
  },
  {
   "cell_type": "code",
   "execution_count": 80,
   "id": "1c8fc6f6",
   "metadata": {
    "execution": {
     "iopub.execute_input": "2022-08-25T21:13:17.768263Z",
     "iopub.status.busy": "2022-08-25T21:13:17.767550Z",
     "iopub.status.idle": "2022-08-25T21:13:17.777064Z",
     "shell.execute_reply": "2022-08-25T21:13:17.775910Z"
    },
    "papermill": {
     "duration": 0.047485,
     "end_time": "2022-08-25T21:13:17.779292",
     "exception": false,
     "start_time": "2022-08-25T21:13:17.731807",
     "status": "completed"
    },
    "tags": []
   },
   "outputs": [
    {
     "data": {
      "text/plain": [
       "array([0, 1, 3, 2, 4, 6, 5, 9])"
      ]
     },
     "execution_count": 80,
     "metadata": {},
     "output_type": "execute_result"
    }
   ],
   "source": [
    "test_titanic.Parch.unique()"
   ]
  },
  {
   "cell_type": "code",
   "execution_count": 81,
   "id": "ea17be69",
   "metadata": {
    "execution": {
     "iopub.execute_input": "2022-08-25T21:13:17.847493Z",
     "iopub.status.busy": "2022-08-25T21:13:17.846649Z",
     "iopub.status.idle": "2022-08-25T21:13:17.856140Z",
     "shell.execute_reply": "2022-08-25T21:13:17.854765Z"
    },
    "papermill": {
     "duration": 0.047181,
     "end_time": "2022-08-25T21:13:17.859445",
     "exception": false,
     "start_time": "2022-08-25T21:13:17.812264",
     "status": "completed"
    },
    "tags": []
   },
   "outputs": [
    {
     "data": {
      "text/plain": [
       "0    324\n",
       "1     52\n",
       "2     33\n",
       "3      3\n",
       "4      2\n",
       "9      2\n",
       "6      1\n",
       "5      1\n",
       "Name: Parch, dtype: int64"
      ]
     },
     "execution_count": 81,
     "metadata": {},
     "output_type": "execute_result"
    }
   ],
   "source": [
    "test_titanic.Parch.value_counts()"
   ]
  },
  {
   "cell_type": "code",
   "execution_count": 82,
   "id": "710c4c60",
   "metadata": {
    "execution": {
     "iopub.execute_input": "2022-08-25T21:13:17.940776Z",
     "iopub.status.busy": "2022-08-25T21:13:17.939690Z",
     "iopub.status.idle": "2022-08-25T21:13:17.958682Z",
     "shell.execute_reply": "2022-08-25T21:13:17.956640Z"
    },
    "papermill": {
     "duration": 0.062586,
     "end_time": "2022-08-25T21:13:17.961515",
     "exception": false,
     "start_time": "2022-08-25T21:13:17.898929",
     "status": "completed"
    },
    "tags": []
   },
   "outputs": [
    {
     "name": "stdout",
     "output_type": "stream",
     "text": [
      "<class 'pandas.core.frame.DataFrame'>\n",
      "RangeIndex: 418 entries, 0 to 417\n",
      "Data columns (total 7 columns):\n",
      " #   Column    Non-Null Count  Dtype  \n",
      "---  ------    --------------  -----  \n",
      " 0   Pclass    418 non-null    int64  \n",
      " 1   Sex       418 non-null    int64  \n",
      " 2   Age       418 non-null    int64  \n",
      " 3   SibSp     418 non-null    int64  \n",
      " 4   Parch     418 non-null    int64  \n",
      " 5   Fare      417 non-null    float64\n",
      " 6   Embarked  418 non-null    object \n",
      "dtypes: float64(1), int64(5), object(1)\n",
      "memory usage: 23.0+ KB\n"
     ]
    }
   ],
   "source": [
    "test_titanic.info()"
   ]
  },
  {
   "cell_type": "code",
   "execution_count": 83,
   "id": "6816c810",
   "metadata": {
    "execution": {
     "iopub.execute_input": "2022-08-25T21:13:18.040305Z",
     "iopub.status.busy": "2022-08-25T21:13:18.039393Z",
     "iopub.status.idle": "2022-08-25T21:13:18.049585Z",
     "shell.execute_reply": "2022-08-25T21:13:18.048541Z"
    },
    "papermill": {
     "duration": 0.05416,
     "end_time": "2022-08-25T21:13:18.052026",
     "exception": false,
     "start_time": "2022-08-25T21:13:17.997866",
     "status": "completed"
    },
    "tags": []
   },
   "outputs": [
    {
     "data": {
      "text/plain": [
       "0        7.8292\n",
       "1        7.0000\n",
       "2        9.6875\n",
       "3        8.6625\n",
       "4       12.2875\n",
       "         ...   \n",
       "413      8.0500\n",
       "414    108.9000\n",
       "415      7.2500\n",
       "416      8.0500\n",
       "417     22.3583\n",
       "Name: Fare, Length: 418, dtype: float64"
      ]
     },
     "execution_count": 83,
     "metadata": {},
     "output_type": "execute_result"
    }
   ],
   "source": [
    "test_titanic.Fare    # this was working in jupyter notebook as train_titanic.Fare.info() here I removed info() because of error."
   ]
  },
  {
   "cell_type": "code",
   "execution_count": 84,
   "id": "64486e2e",
   "metadata": {
    "execution": {
     "iopub.execute_input": "2022-08-25T21:13:18.127391Z",
     "iopub.status.busy": "2022-08-25T21:13:18.125719Z",
     "iopub.status.idle": "2022-08-25T21:13:18.134117Z",
     "shell.execute_reply": "2022-08-25T21:13:18.132430Z"
    },
    "papermill": {
     "duration": 0.048246,
     "end_time": "2022-08-25T21:13:18.137239",
     "exception": false,
     "start_time": "2022-08-25T21:13:18.088993",
     "status": "completed"
    },
    "tags": []
   },
   "outputs": [],
   "source": [
    "test_titanic.Fare.fillna(test_titanic.Fare.mean(), inplace = True)"
   ]
  },
  {
   "cell_type": "code",
   "execution_count": 85,
   "id": "1c1eda3e",
   "metadata": {
    "execution": {
     "iopub.execute_input": "2022-08-25T21:13:18.212600Z",
     "iopub.status.busy": "2022-08-25T21:13:18.212098Z",
     "iopub.status.idle": "2022-08-25T21:13:18.220853Z",
     "shell.execute_reply": "2022-08-25T21:13:18.219873Z"
    },
    "papermill": {
     "duration": 0.049111,
     "end_time": "2022-08-25T21:13:18.223200",
     "exception": false,
     "start_time": "2022-08-25T21:13:18.174089",
     "status": "completed"
    },
    "tags": []
   },
   "outputs": [
    {
     "data": {
      "text/plain": [
       "array(['Q', 'S', 'C'], dtype=object)"
      ]
     },
     "execution_count": 85,
     "metadata": {},
     "output_type": "execute_result"
    }
   ],
   "source": [
    "test_titanic.Embarked.unique()"
   ]
  },
  {
   "cell_type": "code",
   "execution_count": 86,
   "id": "14fb1107",
   "metadata": {
    "execution": {
     "iopub.execute_input": "2022-08-25T21:13:18.303897Z",
     "iopub.status.busy": "2022-08-25T21:13:18.302328Z",
     "iopub.status.idle": "2022-08-25T21:13:18.312635Z",
     "shell.execute_reply": "2022-08-25T21:13:18.311421Z"
    },
    "papermill": {
     "duration": 0.053263,
     "end_time": "2022-08-25T21:13:18.315546",
     "exception": false,
     "start_time": "2022-08-25T21:13:18.262283",
     "status": "completed"
    },
    "tags": []
   },
   "outputs": [
    {
     "data": {
      "text/plain": [
       "0    S\n",
       "dtype: object"
      ]
     },
     "execution_count": 86,
     "metadata": {},
     "output_type": "execute_result"
    }
   ],
   "source": [
    "test_titanic.Embarked.mode()"
   ]
  },
  {
   "cell_type": "code",
   "execution_count": 87,
   "id": "c643fe77",
   "metadata": {
    "execution": {
     "iopub.execute_input": "2022-08-25T21:13:18.386512Z",
     "iopub.status.busy": "2022-08-25T21:13:18.385657Z",
     "iopub.status.idle": "2022-08-25T21:13:18.393516Z",
     "shell.execute_reply": "2022-08-25T21:13:18.392560Z"
    },
    "papermill": {
     "duration": 0.046019,
     "end_time": "2022-08-25T21:13:18.396186",
     "exception": false,
     "start_time": "2022-08-25T21:13:18.350167",
     "status": "completed"
    },
    "tags": []
   },
   "outputs": [],
   "source": [
    "test_titanic.Embarked.replace(['S', 'C', 'Q'], [0, 1, 2], inplace = True)"
   ]
  },
  {
   "cell_type": "markdown",
   "id": "833bfa2e",
   "metadata": {
    "papermill": {
     "duration": 0.033849,
     "end_time": "2022-08-25T21:13:18.465799",
     "exception": false,
     "start_time": "2022-08-25T21:13:18.431950",
     "status": "completed"
    },
    "tags": []
   },
   "source": [
    "## Final Test Data"
   ]
  },
  {
   "cell_type": "code",
   "execution_count": 88,
   "id": "f9ba750c",
   "metadata": {
    "execution": {
     "iopub.execute_input": "2022-08-25T21:13:18.536666Z",
     "iopub.status.busy": "2022-08-25T21:13:18.536207Z",
     "iopub.status.idle": "2022-08-25T21:13:18.553456Z",
     "shell.execute_reply": "2022-08-25T21:13:18.551945Z"
    },
    "papermill": {
     "duration": 0.055455,
     "end_time": "2022-08-25T21:13:18.556141",
     "exception": false,
     "start_time": "2022-08-25T21:13:18.500686",
     "status": "completed"
    },
    "tags": []
   },
   "outputs": [
    {
     "data": {
      "text/html": [
       "<div>\n",
       "<style scoped>\n",
       "    .dataframe tbody tr th:only-of-type {\n",
       "        vertical-align: middle;\n",
       "    }\n",
       "\n",
       "    .dataframe tbody tr th {\n",
       "        vertical-align: top;\n",
       "    }\n",
       "\n",
       "    .dataframe thead th {\n",
       "        text-align: right;\n",
       "    }\n",
       "</style>\n",
       "<table border=\"1\" class=\"dataframe\">\n",
       "  <thead>\n",
       "    <tr style=\"text-align: right;\">\n",
       "      <th></th>\n",
       "      <th>Pclass</th>\n",
       "      <th>Sex</th>\n",
       "      <th>Age</th>\n",
       "      <th>SibSp</th>\n",
       "      <th>Parch</th>\n",
       "      <th>Fare</th>\n",
       "      <th>Embarked</th>\n",
       "    </tr>\n",
       "  </thead>\n",
       "  <tbody>\n",
       "    <tr>\n",
       "      <th>0</th>\n",
       "      <td>3</td>\n",
       "      <td>1</td>\n",
       "      <td>34</td>\n",
       "      <td>0</td>\n",
       "      <td>0</td>\n",
       "      <td>7.8292</td>\n",
       "      <td>2</td>\n",
       "    </tr>\n",
       "    <tr>\n",
       "      <th>1</th>\n",
       "      <td>3</td>\n",
       "      <td>0</td>\n",
       "      <td>47</td>\n",
       "      <td>1</td>\n",
       "      <td>0</td>\n",
       "      <td>7.0000</td>\n",
       "      <td>0</td>\n",
       "    </tr>\n",
       "    <tr>\n",
       "      <th>2</th>\n",
       "      <td>2</td>\n",
       "      <td>1</td>\n",
       "      <td>62</td>\n",
       "      <td>0</td>\n",
       "      <td>0</td>\n",
       "      <td>9.6875</td>\n",
       "      <td>2</td>\n",
       "    </tr>\n",
       "    <tr>\n",
       "      <th>3</th>\n",
       "      <td>3</td>\n",
       "      <td>1</td>\n",
       "      <td>27</td>\n",
       "      <td>0</td>\n",
       "      <td>0</td>\n",
       "      <td>8.6625</td>\n",
       "      <td>0</td>\n",
       "    </tr>\n",
       "    <tr>\n",
       "      <th>4</th>\n",
       "      <td>3</td>\n",
       "      <td>0</td>\n",
       "      <td>22</td>\n",
       "      <td>1</td>\n",
       "      <td>1</td>\n",
       "      <td>12.2875</td>\n",
       "      <td>0</td>\n",
       "    </tr>\n",
       "    <tr>\n",
       "      <th>...</th>\n",
       "      <td>...</td>\n",
       "      <td>...</td>\n",
       "      <td>...</td>\n",
       "      <td>...</td>\n",
       "      <td>...</td>\n",
       "      <td>...</td>\n",
       "      <td>...</td>\n",
       "    </tr>\n",
       "    <tr>\n",
       "      <th>413</th>\n",
       "      <td>3</td>\n",
       "      <td>1</td>\n",
       "      <td>30</td>\n",
       "      <td>0</td>\n",
       "      <td>0</td>\n",
       "      <td>8.0500</td>\n",
       "      <td>0</td>\n",
       "    </tr>\n",
       "    <tr>\n",
       "      <th>414</th>\n",
       "      <td>1</td>\n",
       "      <td>0</td>\n",
       "      <td>39</td>\n",
       "      <td>0</td>\n",
       "      <td>0</td>\n",
       "      <td>108.9000</td>\n",
       "      <td>1</td>\n",
       "    </tr>\n",
       "    <tr>\n",
       "      <th>415</th>\n",
       "      <td>3</td>\n",
       "      <td>1</td>\n",
       "      <td>38</td>\n",
       "      <td>0</td>\n",
       "      <td>0</td>\n",
       "      <td>7.2500</td>\n",
       "      <td>0</td>\n",
       "    </tr>\n",
       "    <tr>\n",
       "      <th>416</th>\n",
       "      <td>3</td>\n",
       "      <td>1</td>\n",
       "      <td>30</td>\n",
       "      <td>0</td>\n",
       "      <td>0</td>\n",
       "      <td>8.0500</td>\n",
       "      <td>0</td>\n",
       "    </tr>\n",
       "    <tr>\n",
       "      <th>417</th>\n",
       "      <td>3</td>\n",
       "      <td>1</td>\n",
       "      <td>30</td>\n",
       "      <td>1</td>\n",
       "      <td>1</td>\n",
       "      <td>22.3583</td>\n",
       "      <td>1</td>\n",
       "    </tr>\n",
       "  </tbody>\n",
       "</table>\n",
       "<p>418 rows × 7 columns</p>\n",
       "</div>"
      ],
      "text/plain": [
       "     Pclass  Sex  Age  SibSp  Parch      Fare  Embarked\n",
       "0         3    1   34      0      0    7.8292         2\n",
       "1         3    0   47      1      0    7.0000         0\n",
       "2         2    1   62      0      0    9.6875         2\n",
       "3         3    1   27      0      0    8.6625         0\n",
       "4         3    0   22      1      1   12.2875         0\n",
       "..      ...  ...  ...    ...    ...       ...       ...\n",
       "413       3    1   30      0      0    8.0500         0\n",
       "414       1    0   39      0      0  108.9000         1\n",
       "415       3    1   38      0      0    7.2500         0\n",
       "416       3    1   30      0      0    8.0500         0\n",
       "417       3    1   30      1      1   22.3583         1\n",
       "\n",
       "[418 rows x 7 columns]"
      ]
     },
     "execution_count": 88,
     "metadata": {},
     "output_type": "execute_result"
    }
   ],
   "source": [
    "test_titanic"
   ]
  },
  {
   "cell_type": "markdown",
   "id": "596b1be6",
   "metadata": {
    "papermill": {
     "duration": 0.035562,
     "end_time": "2022-08-25T21:13:18.625972",
     "exception": false,
     "start_time": "2022-08-25T21:13:18.590410",
     "status": "completed"
    },
    "tags": []
   },
   "source": [
    "# Machine Learning"
   ]
  },
  {
   "cell_type": "markdown",
   "id": "8b1a3a7f",
   "metadata": {
    "papermill": {
     "duration": 0.032846,
     "end_time": "2022-08-25T21:13:18.692178",
     "exception": false,
     "start_time": "2022-08-25T21:13:18.659332",
     "status": "completed"
    },
    "tags": []
   },
   "source": [
    "## importing libraries"
   ]
  },
  {
   "cell_type": "code",
   "execution_count": 89,
   "id": "5c4600da",
   "metadata": {
    "execution": {
     "iopub.execute_input": "2022-08-25T21:13:18.761626Z",
     "iopub.status.busy": "2022-08-25T21:13:18.760758Z",
     "iopub.status.idle": "2022-08-25T21:13:20.268665Z",
     "shell.execute_reply": "2022-08-25T21:13:20.267021Z"
    },
    "papermill": {
     "duration": 1.546533,
     "end_time": "2022-08-25T21:13:20.271766",
     "exception": false,
     "start_time": "2022-08-25T21:13:18.725233",
     "status": "completed"
    },
    "tags": []
   },
   "outputs": [],
   "source": [
    "from sklearn.model_selection import train_test_split, RandomizedSearchCV\n",
    "\n",
    "from sklearn.linear_model import LogisticRegression\n",
    "from sklearn.tree import DecisionTreeClassifier\n",
    "from sklearn.ensemble import RandomForestClassifier\n",
    "\n",
    "from sklearn.metrics import accuracy_score, confusion_matrix, classification_report\n",
    "\n",
    "import warnings\n",
    "warnings.filterwarnings('ignore')"
   ]
  },
  {
   "cell_type": "code",
   "execution_count": 90,
   "id": "d71a3bf9",
   "metadata": {
    "execution": {
     "iopub.execute_input": "2022-08-25T21:13:20.340712Z",
     "iopub.status.busy": "2022-08-25T21:13:20.340259Z",
     "iopub.status.idle": "2022-08-25T21:13:20.348092Z",
     "shell.execute_reply": "2022-08-25T21:13:20.347182Z"
    },
    "papermill": {
     "duration": 0.04511,
     "end_time": "2022-08-25T21:13:20.350413",
     "exception": false,
     "start_time": "2022-08-25T21:13:20.305303",
     "status": "completed"
    },
    "tags": []
   },
   "outputs": [],
   "source": [
    "X = train_titanic.drop('Survived', axis = 1)\n",
    "y = train_titanic.Survived"
   ]
  },
  {
   "cell_type": "code",
   "execution_count": 91,
   "id": "951bf41d",
   "metadata": {
    "execution": {
     "iopub.execute_input": "2022-08-25T21:13:20.419124Z",
     "iopub.status.busy": "2022-08-25T21:13:20.417844Z",
     "iopub.status.idle": "2022-08-25T21:13:20.424250Z",
     "shell.execute_reply": "2022-08-25T21:13:20.422868Z"
    },
    "papermill": {
     "duration": 0.043259,
     "end_time": "2022-08-25T21:13:20.426708",
     "exception": false,
     "start_time": "2022-08-25T21:13:20.383449",
     "status": "completed"
    },
    "tags": []
   },
   "outputs": [],
   "source": [
    "lr_model = LogisticRegression()\n",
    "dtc_model = DecisionTreeClassifier()\n",
    "rfc_model = RandomForestClassifier()"
   ]
  },
  {
   "cell_type": "markdown",
   "id": "2b28b34f",
   "metadata": {
    "papermill": {
     "duration": 0.032709,
     "end_time": "2022-08-25T21:13:20.492746",
     "exception": false,
     "start_time": "2022-08-25T21:13:20.460037",
     "status": "completed"
    },
    "tags": []
   },
   "source": [
    "### Splitting training data into train set and test sets."
   ]
  },
  {
   "cell_type": "code",
   "execution_count": 92,
   "id": "77fc6461",
   "metadata": {
    "execution": {
     "iopub.execute_input": "2022-08-25T21:13:20.561058Z",
     "iopub.status.busy": "2022-08-25T21:13:20.560637Z",
     "iopub.status.idle": "2022-08-25T21:13:20.568840Z",
     "shell.execute_reply": "2022-08-25T21:13:20.567670Z"
    },
    "papermill": {
     "duration": 0.046047,
     "end_time": "2022-08-25T21:13:20.571926",
     "exception": false,
     "start_time": "2022-08-25T21:13:20.525879",
     "status": "completed"
    },
    "tags": []
   },
   "outputs": [],
   "source": [
    "X_train, X_test, y_train, y_test = train_test_split(X, y, test_size = 0.20, random_state=42)"
   ]
  },
  {
   "cell_type": "markdown",
   "id": "71399d87",
   "metadata": {
    "papermill": {
     "duration": 0.033995,
     "end_time": "2022-08-25T21:13:20.641619",
     "exception": false,
     "start_time": "2022-08-25T21:13:20.607624",
     "status": "completed"
    },
    "tags": []
   },
   "source": [
    "### Model Training/Fitting -> Prediction -> Performance Testing"
   ]
  },
  {
   "cell_type": "markdown",
   "id": "1835c2ba",
   "metadata": {
    "papermill": {
     "duration": 0.032693,
     "end_time": "2022-08-25T21:13:20.709275",
     "exception": false,
     "start_time": "2022-08-25T21:13:20.676582",
     "status": "completed"
    },
    "tags": []
   },
   "source": [
    "## ***Logistic Regression Model***"
   ]
  },
  {
   "cell_type": "code",
   "execution_count": 93,
   "id": "b3080a91",
   "metadata": {
    "execution": {
     "iopub.execute_input": "2022-08-25T21:13:20.783860Z",
     "iopub.status.busy": "2022-08-25T21:13:20.783379Z",
     "iopub.status.idle": "2022-08-25T21:13:20.839416Z",
     "shell.execute_reply": "2022-08-25T21:13:20.838542Z"
    },
    "papermill": {
     "duration": 0.098229,
     "end_time": "2022-08-25T21:13:20.842183",
     "exception": false,
     "start_time": "2022-08-25T21:13:20.743954",
     "status": "completed"
    },
    "tags": []
   },
   "outputs": [
    {
     "data": {
      "text/plain": [
       "LogisticRegression()"
      ]
     },
     "execution_count": 93,
     "metadata": {},
     "output_type": "execute_result"
    }
   ],
   "source": [
    "lr_model.fit(X_train, y_train)"
   ]
  },
  {
   "cell_type": "code",
   "execution_count": 94,
   "id": "b2a54522",
   "metadata": {
    "execution": {
     "iopub.execute_input": "2022-08-25T21:13:20.918370Z",
     "iopub.status.busy": "2022-08-25T21:13:20.917128Z",
     "iopub.status.idle": "2022-08-25T21:13:20.934026Z",
     "shell.execute_reply": "2022-08-25T21:13:20.932576Z"
    },
    "papermill": {
     "duration": 0.055572,
     "end_time": "2022-08-25T21:13:20.937880",
     "exception": false,
     "start_time": "2022-08-25T21:13:20.882308",
     "status": "completed"
    },
    "tags": []
   },
   "outputs": [
    {
     "name": "stdout",
     "output_type": "stream",
     "text": [
      "Accuracy of Logistic Regression Model : 79.33 % \n",
      "\n",
      "Confusion Matrix : \n",
      " [[88 17]\n",
      " [20 54]] \n",
      "\n",
      "Classification Report : \n",
      "               precision    recall  f1-score   support\n",
      "\n",
      "           0       0.81      0.84      0.83       105\n",
      "           1       0.76      0.73      0.74        74\n",
      "\n",
      "    accuracy                           0.79       179\n",
      "   macro avg       0.79      0.78      0.79       179\n",
      "weighted avg       0.79      0.79      0.79       179\n",
      " \n",
      "\n"
     ]
    }
   ],
   "source": [
    "lr_y_predict = lr_model.predict(X_test)\n",
    "\n",
    "lr_accuracy = (100 * accuracy_score(y_test, lr_y_predict)).round(2)\n",
    "print(f\"Accuracy of Logistic Regression Model : {lr_accuracy} %\", \"\\n\")\n",
    "print(\"Confusion Matrix : \\n\", confusion_matrix(y_test, lr_y_predict), \"\\n\")\n",
    "print(\"Classification Report : \\n\", classification_report(y_test, lr_y_predict),\"\\n\")"
   ]
  },
  {
   "cell_type": "markdown",
   "id": "063c3fea",
   "metadata": {
    "papermill": {
     "duration": 0.034204,
     "end_time": "2022-08-25T21:13:21.008497",
     "exception": false,
     "start_time": "2022-08-25T21:13:20.974293",
     "status": "completed"
    },
    "tags": []
   },
   "source": [
    "## ***Decision Tree Classifier***"
   ]
  },
  {
   "cell_type": "code",
   "execution_count": 95,
   "id": "74acc75d",
   "metadata": {
    "execution": {
     "iopub.execute_input": "2022-08-25T21:13:21.077441Z",
     "iopub.status.busy": "2022-08-25T21:13:21.077014Z",
     "iopub.status.idle": "2022-08-25T21:13:21.090663Z",
     "shell.execute_reply": "2022-08-25T21:13:21.089710Z"
    },
    "papermill": {
     "duration": 0.051132,
     "end_time": "2022-08-25T21:13:21.092874",
     "exception": false,
     "start_time": "2022-08-25T21:13:21.041742",
     "status": "completed"
    },
    "tags": []
   },
   "outputs": [
    {
     "data": {
      "text/plain": [
       "DecisionTreeClassifier()"
      ]
     },
     "execution_count": 95,
     "metadata": {},
     "output_type": "execute_result"
    }
   ],
   "source": [
    "dtc_model.fit(X_train, y_train)"
   ]
  },
  {
   "cell_type": "code",
   "execution_count": 96,
   "id": "3f6269f8",
   "metadata": {
    "execution": {
     "iopub.execute_input": "2022-08-25T21:13:21.162198Z",
     "iopub.status.busy": "2022-08-25T21:13:21.160990Z",
     "iopub.status.idle": "2022-08-25T21:13:21.178115Z",
     "shell.execute_reply": "2022-08-25T21:13:21.175862Z"
    },
    "papermill": {
     "duration": 0.054514,
     "end_time": "2022-08-25T21:13:21.180901",
     "exception": false,
     "start_time": "2022-08-25T21:13:21.126387",
     "status": "completed"
    },
    "tags": []
   },
   "outputs": [
    {
     "name": "stdout",
     "output_type": "stream",
     "text": [
      "Accuracy of Decision Tree Model : 77.65 % \n",
      "\n",
      "Confusion Matrix : \n",
      " [[84 21]\n",
      " [19 55]] \n",
      "\n",
      "Classification Report : \n",
      "               precision    recall  f1-score   support\n",
      "\n",
      "           0       0.82      0.80      0.81       105\n",
      "           1       0.72      0.74      0.73        74\n",
      "\n",
      "    accuracy                           0.78       179\n",
      "   macro avg       0.77      0.77      0.77       179\n",
      "weighted avg       0.78      0.78      0.78       179\n",
      " \n",
      "\n"
     ]
    }
   ],
   "source": [
    "dtc_y_predict = dtc_model.predict(X_test)\n",
    "\n",
    "dtc_accuracy = (100 * accuracy_score(y_test, dtc_y_predict)).round(2)\n",
    "print(f\"Accuracy of Decision Tree Model : {dtc_accuracy} % \\n\" )\n",
    "print(\"Confusion Matrix : \\n\", confusion_matrix(y_test, dtc_y_predict), \"\\n\")\n",
    "print(\"Classification Report : \\n\", classification_report(y_test, dtc_y_predict), \"\\n\")"
   ]
  },
  {
   "cell_type": "markdown",
   "id": "a985b285",
   "metadata": {
    "papermill": {
     "duration": 0.032909,
     "end_time": "2022-08-25T21:13:21.247345",
     "exception": false,
     "start_time": "2022-08-25T21:13:21.214436",
     "status": "completed"
    },
    "tags": []
   },
   "source": [
    "## ***Random Forest Classifier***"
   ]
  },
  {
   "cell_type": "code",
   "execution_count": 97,
   "id": "798f33d7",
   "metadata": {
    "execution": {
     "iopub.execute_input": "2022-08-25T21:13:21.315799Z",
     "iopub.status.busy": "2022-08-25T21:13:21.315256Z",
     "iopub.status.idle": "2022-08-25T21:13:21.518422Z",
     "shell.execute_reply": "2022-08-25T21:13:21.517390Z"
    },
    "papermill": {
     "duration": 0.240404,
     "end_time": "2022-08-25T21:13:21.520622",
     "exception": false,
     "start_time": "2022-08-25T21:13:21.280218",
     "status": "completed"
    },
    "tags": []
   },
   "outputs": [
    {
     "data": {
      "text/plain": [
       "RandomForestClassifier()"
      ]
     },
     "execution_count": 97,
     "metadata": {},
     "output_type": "execute_result"
    }
   ],
   "source": [
    "rfc_model.fit(X_train, y_train)"
   ]
  },
  {
   "cell_type": "code",
   "execution_count": 98,
   "id": "abf30826",
   "metadata": {
    "execution": {
     "iopub.execute_input": "2022-08-25T21:13:21.590851Z",
     "iopub.status.busy": "2022-08-25T21:13:21.590334Z",
     "iopub.status.idle": "2022-08-25T21:13:21.624680Z",
     "shell.execute_reply": "2022-08-25T21:13:21.623811Z"
    },
    "papermill": {
     "duration": 0.073557,
     "end_time": "2022-08-25T21:13:21.627722",
     "exception": false,
     "start_time": "2022-08-25T21:13:21.554165",
     "status": "completed"
    },
    "tags": []
   },
   "outputs": [
    {
     "name": "stdout",
     "output_type": "stream",
     "text": [
      "Accuracy of Random Forest Model : 81.01 % \n",
      "\n",
      "Confusion Matrix : \n",
      " [[90 15]\n",
      " [19 55]] \n",
      "\n",
      "Classification Report : \n",
      "               precision    recall  f1-score   support\n",
      "\n",
      "           0       0.83      0.86      0.84       105\n",
      "           1       0.79      0.74      0.76        74\n",
      "\n",
      "    accuracy                           0.81       179\n",
      "   macro avg       0.81      0.80      0.80       179\n",
      "weighted avg       0.81      0.81      0.81       179\n",
      " \n",
      "\n"
     ]
    }
   ],
   "source": [
    "rfc_y_predict = rfc_model.predict(X_test)\n",
    "\n",
    "rfc_accuracy = (100 * accuracy_score(y_test, rfc_y_predict)).round(2)\n",
    "print(f\"Accuracy of Random Forest Model : {rfc_accuracy} % \\n\")\n",
    "print(\"Confusion Matrix : \\n\", confusion_matrix(y_test, rfc_y_predict), \"\\n\")\n",
    "print(\"Classification Report : \\n\", classification_report(y_test, rfc_y_predict),\"\\n\")"
   ]
  },
  {
   "cell_type": "markdown",
   "id": "df2c8b13",
   "metadata": {
    "papermill": {
     "duration": 0.03336,
     "end_time": "2022-08-25T21:13:21.695239",
     "exception": false,
     "start_time": "2022-08-25T21:13:21.661879",
     "status": "completed"
    },
    "tags": []
   },
   "source": [
    "### Summary"
   ]
  },
  {
   "cell_type": "code",
   "execution_count": 99,
   "id": "e65e4bec",
   "metadata": {
    "execution": {
     "iopub.execute_input": "2022-08-25T21:13:21.765749Z",
     "iopub.status.busy": "2022-08-25T21:13:21.764554Z",
     "iopub.status.idle": "2022-08-25T21:13:21.770523Z",
     "shell.execute_reply": "2022-08-25T21:13:21.769002Z"
    },
    "papermill": {
     "duration": 0.044318,
     "end_time": "2022-08-25T21:13:21.773389",
     "exception": false,
     "start_time": "2022-08-25T21:13:21.729071",
     "status": "completed"
    },
    "tags": []
   },
   "outputs": [],
   "source": [
    "Model = ['LogisticRegression', 'DecisionTreeClassifier', 'RandomForestClassifier']\n",
    "Accuracy = [lr_accuracy, dtc_accuracy, rfc_accuracy]"
   ]
  },
  {
   "cell_type": "code",
   "execution_count": 100,
   "id": "b653ea04",
   "metadata": {
    "execution": {
     "iopub.execute_input": "2022-08-25T21:13:21.843578Z",
     "iopub.status.busy": "2022-08-25T21:13:21.843010Z",
     "iopub.status.idle": "2022-08-25T21:13:21.857249Z",
     "shell.execute_reply": "2022-08-25T21:13:21.855967Z"
    },
    "papermill": {
     "duration": 0.052071,
     "end_time": "2022-08-25T21:13:21.859910",
     "exception": false,
     "start_time": "2022-08-25T21:13:21.807839",
     "status": "completed"
    },
    "tags": []
   },
   "outputs": [
    {
     "data": {
      "text/html": [
       "<div>\n",
       "<style scoped>\n",
       "    .dataframe tbody tr th:only-of-type {\n",
       "        vertical-align: middle;\n",
       "    }\n",
       "\n",
       "    .dataframe tbody tr th {\n",
       "        vertical-align: top;\n",
       "    }\n",
       "\n",
       "    .dataframe thead th {\n",
       "        text-align: right;\n",
       "    }\n",
       "</style>\n",
       "<table border=\"1\" class=\"dataframe\">\n",
       "  <thead>\n",
       "    <tr style=\"text-align: right;\">\n",
       "      <th></th>\n",
       "      <th>Model</th>\n",
       "      <th>Accuracy</th>\n",
       "    </tr>\n",
       "  </thead>\n",
       "  <tbody>\n",
       "    <tr>\n",
       "      <th>0</th>\n",
       "      <td>RandomForestClassifier</td>\n",
       "      <td>81.01</td>\n",
       "    </tr>\n",
       "    <tr>\n",
       "      <th>1</th>\n",
       "      <td>LogisticRegression</td>\n",
       "      <td>79.33</td>\n",
       "    </tr>\n",
       "    <tr>\n",
       "      <th>2</th>\n",
       "      <td>DecisionTreeClassifier</td>\n",
       "      <td>77.65</td>\n",
       "    </tr>\n",
       "  </tbody>\n",
       "</table>\n",
       "</div>"
      ],
      "text/plain": [
       "                    Model  Accuracy\n",
       "0  RandomForestClassifier     81.01\n",
       "1      LogisticRegression     79.33\n",
       "2  DecisionTreeClassifier     77.65"
      ]
     },
     "execution_count": 100,
     "metadata": {},
     "output_type": "execute_result"
    }
   ],
   "source": [
    "acc_df = pd.DataFrame({'Model': Model, 'Accuracy': Accuracy})\n",
    "acc_df.sort_values(by = 'Accuracy', ascending=False, ignore_index=True)"
   ]
  },
  {
   "cell_type": "markdown",
   "id": "4b5745df",
   "metadata": {
    "papermill": {
     "duration": 0.033681,
     "end_time": "2022-08-25T21:13:21.928766",
     "exception": false,
     "start_time": "2022-08-25T21:13:21.895085",
     "status": "completed"
    },
    "tags": []
   },
   "source": [
    "## Prediction output for the test dataset using Random Forest Classifier"
   ]
  },
  {
   "cell_type": "code",
   "execution_count": 101,
   "id": "396e13db",
   "metadata": {
    "execution": {
     "iopub.execute_input": "2022-08-25T21:13:21.998865Z",
     "iopub.status.busy": "2022-08-25T21:13:21.998396Z",
     "iopub.status.idle": "2022-08-25T21:13:22.029951Z",
     "shell.execute_reply": "2022-08-25T21:13:22.028725Z"
    },
    "papermill": {
     "duration": 0.070528,
     "end_time": "2022-08-25T21:13:22.032841",
     "exception": false,
     "start_time": "2022-08-25T21:13:21.962313",
     "status": "completed"
    },
    "tags": []
   },
   "outputs": [],
   "source": [
    "rfc_y_predict_final = rfc_model.predict(test_titanic)"
   ]
  },
  {
   "cell_type": "code",
   "execution_count": 102,
   "id": "51249cff",
   "metadata": {
    "execution": {
     "iopub.execute_input": "2022-08-25T21:13:22.104681Z",
     "iopub.status.busy": "2022-08-25T21:13:22.104147Z",
     "iopub.status.idle": "2022-08-25T21:13:22.110437Z",
     "shell.execute_reply": "2022-08-25T21:13:22.109189Z"
    },
    "papermill": {
     "duration": 0.045031,
     "end_time": "2022-08-25T21:13:22.112846",
     "exception": false,
     "start_time": "2022-08-25T21:13:22.067815",
     "status": "completed"
    },
    "tags": []
   },
   "outputs": [],
   "source": [
    "result = pd.DataFrame({'PassengerId': PassengerId, 'Survived': rfc_y_predict_final})"
   ]
  },
  {
   "cell_type": "code",
   "execution_count": 103,
   "id": "66577a1c",
   "metadata": {
    "execution": {
     "iopub.execute_input": "2022-08-25T21:13:22.182765Z",
     "iopub.status.busy": "2022-08-25T21:13:22.182283Z",
     "iopub.status.idle": "2022-08-25T21:13:22.194997Z",
     "shell.execute_reply": "2022-08-25T21:13:22.193582Z"
    },
    "papermill": {
     "duration": 0.050571,
     "end_time": "2022-08-25T21:13:22.197342",
     "exception": false,
     "start_time": "2022-08-25T21:13:22.146771",
     "status": "completed"
    },
    "tags": []
   },
   "outputs": [
    {
     "data": {
      "text/html": [
       "<div>\n",
       "<style scoped>\n",
       "    .dataframe tbody tr th:only-of-type {\n",
       "        vertical-align: middle;\n",
       "    }\n",
       "\n",
       "    .dataframe tbody tr th {\n",
       "        vertical-align: top;\n",
       "    }\n",
       "\n",
       "    .dataframe thead th {\n",
       "        text-align: right;\n",
       "    }\n",
       "</style>\n",
       "<table border=\"1\" class=\"dataframe\">\n",
       "  <thead>\n",
       "    <tr style=\"text-align: right;\">\n",
       "      <th></th>\n",
       "      <th>PassengerId</th>\n",
       "      <th>Survived</th>\n",
       "    </tr>\n",
       "  </thead>\n",
       "  <tbody>\n",
       "    <tr>\n",
       "      <th>0</th>\n",
       "      <td>892</td>\n",
       "      <td>0</td>\n",
       "    </tr>\n",
       "    <tr>\n",
       "      <th>1</th>\n",
       "      <td>893</td>\n",
       "      <td>0</td>\n",
       "    </tr>\n",
       "    <tr>\n",
       "      <th>2</th>\n",
       "      <td>894</td>\n",
       "      <td>0</td>\n",
       "    </tr>\n",
       "    <tr>\n",
       "      <th>3</th>\n",
       "      <td>895</td>\n",
       "      <td>1</td>\n",
       "    </tr>\n",
       "    <tr>\n",
       "      <th>4</th>\n",
       "      <td>896</td>\n",
       "      <td>1</td>\n",
       "    </tr>\n",
       "    <tr>\n",
       "      <th>...</th>\n",
       "      <td>...</td>\n",
       "      <td>...</td>\n",
       "    </tr>\n",
       "    <tr>\n",
       "      <th>413</th>\n",
       "      <td>1305</td>\n",
       "      <td>0</td>\n",
       "    </tr>\n",
       "    <tr>\n",
       "      <th>414</th>\n",
       "      <td>1306</td>\n",
       "      <td>1</td>\n",
       "    </tr>\n",
       "    <tr>\n",
       "      <th>415</th>\n",
       "      <td>1307</td>\n",
       "      <td>0</td>\n",
       "    </tr>\n",
       "    <tr>\n",
       "      <th>416</th>\n",
       "      <td>1308</td>\n",
       "      <td>0</td>\n",
       "    </tr>\n",
       "    <tr>\n",
       "      <th>417</th>\n",
       "      <td>1309</td>\n",
       "      <td>0</td>\n",
       "    </tr>\n",
       "  </tbody>\n",
       "</table>\n",
       "<p>418 rows × 2 columns</p>\n",
       "</div>"
      ],
      "text/plain": [
       "     PassengerId  Survived\n",
       "0            892         0\n",
       "1            893         0\n",
       "2            894         0\n",
       "3            895         1\n",
       "4            896         1\n",
       "..           ...       ...\n",
       "413         1305         0\n",
       "414         1306         1\n",
       "415         1307         0\n",
       "416         1308         0\n",
       "417         1309         0\n",
       "\n",
       "[418 rows x 2 columns]"
      ]
     },
     "execution_count": 103,
     "metadata": {},
     "output_type": "execute_result"
    }
   ],
   "source": [
    "result"
   ]
  },
  {
   "cell_type": "code",
   "execution_count": 104,
   "id": "679d3904",
   "metadata": {
    "execution": {
     "iopub.execute_input": "2022-08-25T21:13:22.269065Z",
     "iopub.status.busy": "2022-08-25T21:13:22.268601Z",
     "iopub.status.idle": "2022-08-25T21:13:22.279218Z",
     "shell.execute_reply": "2022-08-25T21:13:22.278210Z"
    },
    "papermill": {
     "duration": 0.0489,
     "end_time": "2022-08-25T21:13:22.281692",
     "exception": false,
     "start_time": "2022-08-25T21:13:22.232792",
     "status": "completed"
    },
    "tags": []
   },
   "outputs": [],
   "source": [
    "result.to_csv('result.zip', index = False, compression = {'method':'zip', 'archive_name':'result.csv'})"
   ]
  }
 ],
 "metadata": {
  "kernelspec": {
   "display_name": "Python 3",
   "language": "python",
   "name": "python3"
  },
  "language_info": {
   "codemirror_mode": {
    "name": "ipython",
    "version": 3
   },
   "file_extension": ".py",
   "mimetype": "text/x-python",
   "name": "python",
   "nbconvert_exporter": "python",
   "pygments_lexer": "ipython3",
   "version": "3.7.12"
  },
  "papermill": {
   "default_parameters": {},
   "duration": 22.207952,
   "end_time": "2022-08-25T21:13:23.240192",
   "environment_variables": {},
   "exception": null,
   "input_path": "__notebook__.ipynb",
   "output_path": "__notebook__.ipynb",
   "parameters": {},
   "start_time": "2022-08-25T21:13:01.032240",
   "version": "2.3.4"
  }
 },
 "nbformat": 4,
 "nbformat_minor": 5
}
